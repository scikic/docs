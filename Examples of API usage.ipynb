{
 "cells": [
  {
   "cell_type": "markdown",
   "metadata": {},
   "source": [
    "# Scikic API v2.0\n",
    " \n",
    "## Overview\n",
    "\n",
    "The scikic api is an inference tool which takes a set of question/answer items and then queries a series of local and remote databases to generate conditional probability distributions over various features. The api is highly modular, and some modules don't use this probabilistic framework, for example the music module simply contacts api.bandsintown.com to provide useful suggestions about local bands to go and see.\n",
    "\n",
    "The conditional probabilities are combined using a Bayesian network, using the pyMC module. Each module can provide pyMC 'features' which create functions to output the relevant probability distributions.\n",
    "\n",
    "## Question/Answer dictionaries\n",
    "\n",
    "The questions and answers are organised to be in 4 value tuples, containing:\n",
    "\n",
    "- dataset: lets the system know which class to instantiate etc, examples: postcode, census, movielens, ...etc\n",
    "- dataitem: used by classes to know which aspect of the dataset. For example in the movielens dataset, one could be interested in whether the user's seen a film or what rating they've given the film.\n",
    "- detail: often unused by the classes, could be, for example, the id of the film we want to know about.\n",
    "- answer: the user's answer.\n",
    "\n",
    "## Future Changes/TODO list\n",
    "\n",
    "Heads-up about a couple of changes:\n",
    "\n",
    " - ~~Vasily suggested I move the 'action' selection out and make it part of the URL, to make it more RESTful.~~ DONE.\n",
    " - ~~I'll be combining the API query that gets the question string, with the one that generates the 'raw' question tuple. Originally the API was designed when it was run on the same server as the code that was querying it, so extra API calls didn't cost much. As the calls will now be remote, they need combining.~~ DONE\n",
    " - ~~document the new API~~ DONE (below)\n",
    " - fix security issues (stop outputting debug info to client)\n",
    " - add useful error messages to API's output\n",
    " - incorporate Cambridge's code\n",
    " - write a new install script for the setup\n",
    " - install on front end\n",
    " - The version number will be used in future.\n",
    " - The API doesn't currently check the key. Obviously this will be implemented in future.\n",
    " - Get the IP->Location working again (API change?)\n",
    " - Check load balancer to backend API still working (this shouldn't be need altering)\n",
    " - Set up SSL for API load balancer (previously left connection between frontend and backend non-SSL as it's all in the AWS datacentre).\n",
    "\n",
    "## Available actions\n",
    "\n",
    "Here are some examples of the API in action. A **POST** request is used for the query, in case the data we're sending is too large to fit in a GET request. The POST body is json.\n",
    "\n",
    "### 1. question\n",
    "\n",
    "#### Parameters\n",
    "One passes to this call in data, a dictionary containing:\n",
    " - 'questions_asked'\n",
    " - 'unprocessed_questions'\n",
    " - 'facts'\n",
    " - 'target'\n",
    "\n",
    "The 'questions_asked' include all the questions we've asked, so we don't ask the same question again.\n",
    "The 'facts' dictionary contains information that we've found from earlier questions, etc. It allows caching of the calculations from earlier calls to the API.\n",
    "The 'unprocessed_questions' are a list of question/answers that we've asked before, that haven't had their results added to the 'facts' dictionary.\n",
    "The 'target' item is currently unused, but in the future will allow the choice of question to be selected to maximise the information about a particular feature.\n",
    "\n",
    "#### Returns\n",
    "\n",
    "This call returns a dictionary containing three things:\n",
    "\n",
    " - a 'facts' dictionary - this you can pass back in future so that the method doesn't have to recalculate or generate earlier results.\n",
    " - a 'question' dictionary, containing the dictionary describing the question, e.g. {dataset,dataitem,detail}.\n",
    " - a 'question_string' dictionary, containing:\n",
    " \n",
    "    - 'text' - the actual string of the question (e.g. \"Who's your favourite band or artist?\")\n",
    "    - 'type' - the type of question (it might just want a text reply, so this would equal 'text' or it might be a choice, and so would say 'select'\n",
    "    - 'options' - optional, and is included if the type is 'select'.\n",
    "\n",
    "\n",
    "#### Usage example\n",
    "\n",
    "1. One might initially call this method with all these fields being empty. The method will return an empty 'facts' dictionary and a question dictionary for the first question you want to ask. \n",
    "2. Once you have an answer from the user you would call the method again, this time with the question/answer tuple as both 'questions_asked' and 'unprocessed_questions'.\n",
    "3. The method will return a facts dictionary now, potentially with some results from the processing of the last answer, and another question for you to ask. \n",
    "4. When you call the method a third time (with the user's second answer), you'll pass all the question/answer tuples that you've asked so far in 'questions_asked' and the last question/answer tuple in 'unprocessed_questions'. You'll also pass the new facts dictionary, that now has some content in it.\n",
    "5. This process continues, with the facts dictionary growing each time, the 'questions_asked' growing too, and each time you just have one item in 'unprocessed_questions'.\n",
    "\n",
    "To summarise:\n",
    "\n",
    "Generating a question requires a dictionary of 'questions_asked', 'facts' and 'target'. The 'questions_asked' is a list of dictionaries of previous questions, that you want to avoid asking again.\n",
    "The 'unprocessed_questions' are questions that you've asked already and that haven't been incorporated into the 'facts' dictionary.\n",
    "\n",
    "Below is an example:"
   ]
  },
  {
   "cell_type": "code",
   "execution_count": 61,
   "metadata": {
    "collapsed": true
   },
   "outputs": [],
   "source": [
    "#The url of the API currently (in the long run we should give the backend a domain, maybe api.scikic.org?)\n",
    "apiurl = 'http://api.scikic.org' #production api\n",
    "#apiurl = 'http://dev.scikic.org' #development api\n",
    "#apiurl = 'http://54.194.79.213' #development api"
   ]
  },
  {
   "cell_type": "code",
   "execution_count": 65,
   "metadata": {
    "collapsed": false
   },
   "outputs": [
    {
     "data": {
      "text/plain": [
       "'{\"facts\": {}, \"question_string\": {\"type\": \"select\", \"question\": \"Have you seen Aliens (1986)? (yes or no)\", \"options\": [\"yes\", \"no\"]}, \"question\": {\"detail\": 1200, \"dataitem\": \"seen\", \"dataset\": \"movielens\"}}'"
      ]
     },
     "execution_count": 65,
     "metadata": {},
     "output_type": "execute_result"
    }
   ],
   "source": [
    "import requests\n",
    "#We provide data about previous questions etc:\n",
    "#data consists of a dictionary of (all of these are optional):\n",
    "\n",
    "#'questions_asked': An array of previous questions and answers we've asked, consists of a list of dictionaries.\n",
    "questions_asked = [{'dataset':'postal','dataitem':'postcode','detail':''},{\"detail\": \"\", \"dataitem\": \"favourite_artist\", \"dataset\": \"music\"}]\n",
    "\n",
    "#none of the questions that have been asked before have been processed.\n",
    "unprocessed_questions = questions_asked\n",
    "\n",
    "#'facts': If you've run the inference query and stored a copy of the facts dictionary you can pass it back.\n",
    "#this makes it quicker. In this case we've not yet had any questions processed.\n",
    "facts = {}\n",
    "\n",
    "#'target': What feature we want to know more about (example: 'age', 'gender', 'location') NOT YET IMPLEMENTED\n",
    "#not used. All these items are optional, so we just don't include it.\n",
    "\n",
    "#Build the dictionary:\n",
    "data = {'unprocessed_questions':unprocessed_questions,'questions_asked':questions_asked,'facts':facts}\n",
    "\n",
    "#put it into the payload of the request. This also includes the version and the api key we're using\n",
    "payload = {\"version\":1, 'data': data, 'apikey': 'YOUR_API_KEY_HERE'}\n",
    "r = requests.post(apiurl+'/question',json=payload)\n",
    "r.content"
   ]
  },
  {
   "cell_type": "markdown",
   "metadata": {},
   "source": [
    "Here it has output:\n",
    "\n",
    " - the facts dictionary: Empty\n",
    " - the question it suggests we ask, which in an earlier case is from the movielens dataset class, and is asking if they've seen movie number 2541.\n",
    " - the question string, with the type of question and options (if relevant). For example the dictionary `{'dataset':'postal','dataitem':'postcode','detail':''}` gets converted to the question \"`What's your postcode?`\" with type \"`text`\" (i.e. the user can type anything)."
   ]
  },
  {
   "cell_type": "markdown",
   "metadata": {},
   "source": [
    "### 2. inference\n",
    "\n",
    "#### Parameters\n",
    "\n",
    "The data dictionary should contain three things, similar to the \"action: question\" above,\n",
    "\n",
    "- questions_asked - list of question tuples that we've asked (with their answers)\n",
    "- unprocessed_questions - list of question tuples that we've asked (with their answers), that have not yet been added to the facts dictionary.\n",
    "- facts - the current 'facts' dictionary (possibly provided by earlier calls using action:question)\n",
    "\n",
    "Returns a dictionary of:\n",
    "\n",
    "##### features\n",
    "This is a dictionary of things that have probabilities associated, for example one of its items is 'household' with the following fields:\n",
    " \n",
    "     {\"distribution\": [0.029, 0.058, 0.23, 0.034, 0.070, 0.026, 0.055, 0.036, 0.14, 0.024, 0.023, 0.035, 0.24], \"quartiles\": {\"upper\": 11, \"lower\": 2, \"mean\": 6.46}}\n",
    " \n",
    " where the distribution is how likely the person is to be in each of the categories of a household (these categories can be found in the metadata from the module, or elsewhere). The quartiles don't mean much here as this is properly categorical data. This makes more sense in data such as age.\n",
    " \n",
    "##### facts\n",
    "As mentioned previously is a set of truths about the user generated from processing their answers.\n",
    "\n",
    "##### Insights\n",
    "This is a list of strings, generated by each module, here is an example:\n",
    " \n",
    "     [\"I can\\'t tell which country you\\'re in, just looking at your facebook likes, as I can\\'t see your facebook likes!\", \"You are aged between 20 and 33.\", \"You don\\'t have children living at home\", \" I think you are Christian or of no religion.\"]}\n",
    " \n",
    "Note regarding the distribution above: If some probabilities are zero towards the end of a list then the list will be truncated. For example if inference is certain the user is a male, then the output list will be {\"factor_gender\":[1.0]}. If they are definitely female it will be {\"factor_gender\":[0.0, 1.0]}"
   ]
  },
  {
   "cell_type": "markdown",
   "metadata": {},
   "source": [
    "#### Example call using action:inference\n",
    "\n",
    "Below we set up the data dictionary with one question asked (and answered) regarding postcode. It also contains the same question/answer dictionary as an unprocessed question. The facts dictionary is empty.\n",
    "\n",
    "The output"
   ]
  },
  {
   "cell_type": "code",
   "execution_count": 70,
   "metadata": {
    "collapsed": false,
    "scrolled": true
   },
   "outputs": [
    {
     "name": "stdout",
     "output_type": "stream",
     "text": [
      "<!DOCTYPE HTML PUBLIC \"-//W3C//DTD HTML 3.2 Final//EN\">\n",
      "<title>500 Internal Server Error</title>\n",
      "<h1>Internal Server Error</h1>\n",
      "<p>The server encountered an internal error and was unable to complete your request.  Either the server is overloaded or there is an error in the application.</p>\n",
      "\n"
     ]
    },
    {
     "ename": "ValueError",
     "evalue": "No JSON object could be decoded",
     "output_type": "error",
     "traceback": [
      "\u001b[1;31m---------------------------------------------------------------------------\u001b[0m",
      "\u001b[1;31mValueError\u001b[0m                                Traceback (most recent call last)",
      "\u001b[1;32m<ipython-input-70-51c445f1573e>\u001b[0m in \u001b[0;36m<module>\u001b[1;34m()\u001b[0m\n\u001b[0;32m     21\u001b[0m \u001b[1;32mprint\u001b[0m \u001b[0mr\u001b[0m\u001b[1;33m.\u001b[0m\u001b[0mcontent\u001b[0m\u001b[1;33m\u001b[0m\u001b[0m\n\u001b[0;32m     22\u001b[0m \u001b[1;33m\u001b[0m\u001b[0m\n\u001b[1;32m---> 23\u001b[1;33m \u001b[0mresult\u001b[0m \u001b[1;33m=\u001b[0m \u001b[0mjson\u001b[0m\u001b[1;33m.\u001b[0m\u001b[0mloads\u001b[0m\u001b[1;33m(\u001b[0m\u001b[0mr\u001b[0m\u001b[1;33m.\u001b[0m\u001b[0mcontent\u001b[0m\u001b[1;33m)\u001b[0m\u001b[1;33m\u001b[0m\u001b[0m\n\u001b[0m\u001b[0;32m     24\u001b[0m \u001b[1;32mprint\u001b[0m \u001b[1;34m\"==Facts==\"\u001b[0m\u001b[1;33m\u001b[0m\u001b[0m\n\u001b[0;32m     25\u001b[0m \u001b[1;32mprint\u001b[0m \u001b[0mresult\u001b[0m\u001b[1;33m[\u001b[0m\u001b[1;34m'facts'\u001b[0m\u001b[1;33m]\u001b[0m\u001b[1;33m\u001b[0m\u001b[0m\n",
      "\u001b[1;32m/home/lionfish/anaconda2/lib/python2.7/json/__init__.pyc\u001b[0m in \u001b[0;36mloads\u001b[1;34m(s, encoding, cls, object_hook, parse_float, parse_int, parse_constant, object_pairs_hook, **kw)\u001b[0m\n\u001b[0;32m    337\u001b[0m             \u001b[0mparse_int\u001b[0m \u001b[1;32mis\u001b[0m \u001b[0mNone\u001b[0m \u001b[1;32mand\u001b[0m \u001b[0mparse_float\u001b[0m \u001b[1;32mis\u001b[0m \u001b[0mNone\u001b[0m \u001b[1;32mand\u001b[0m\u001b[1;33m\u001b[0m\u001b[0m\n\u001b[0;32m    338\u001b[0m             parse_constant is None and object_pairs_hook is None and not kw):\n\u001b[1;32m--> 339\u001b[1;33m         \u001b[1;32mreturn\u001b[0m \u001b[0m_default_decoder\u001b[0m\u001b[1;33m.\u001b[0m\u001b[0mdecode\u001b[0m\u001b[1;33m(\u001b[0m\u001b[0ms\u001b[0m\u001b[1;33m)\u001b[0m\u001b[1;33m\u001b[0m\u001b[0m\n\u001b[0m\u001b[0;32m    340\u001b[0m     \u001b[1;32mif\u001b[0m \u001b[0mcls\u001b[0m \u001b[1;32mis\u001b[0m \u001b[0mNone\u001b[0m\u001b[1;33m:\u001b[0m\u001b[1;33m\u001b[0m\u001b[0m\n\u001b[0;32m    341\u001b[0m         \u001b[0mcls\u001b[0m \u001b[1;33m=\u001b[0m \u001b[0mJSONDecoder\u001b[0m\u001b[1;33m\u001b[0m\u001b[0m\n",
      "\u001b[1;32m/home/lionfish/anaconda2/lib/python2.7/json/decoder.pyc\u001b[0m in \u001b[0;36mdecode\u001b[1;34m(self, s, _w)\u001b[0m\n\u001b[0;32m    362\u001b[0m \u001b[1;33m\u001b[0m\u001b[0m\n\u001b[0;32m    363\u001b[0m         \"\"\"\n\u001b[1;32m--> 364\u001b[1;33m         \u001b[0mobj\u001b[0m\u001b[1;33m,\u001b[0m \u001b[0mend\u001b[0m \u001b[1;33m=\u001b[0m \u001b[0mself\u001b[0m\u001b[1;33m.\u001b[0m\u001b[0mraw_decode\u001b[0m\u001b[1;33m(\u001b[0m\u001b[0ms\u001b[0m\u001b[1;33m,\u001b[0m \u001b[0midx\u001b[0m\u001b[1;33m=\u001b[0m\u001b[0m_w\u001b[0m\u001b[1;33m(\u001b[0m\u001b[0ms\u001b[0m\u001b[1;33m,\u001b[0m \u001b[1;36m0\u001b[0m\u001b[1;33m)\u001b[0m\u001b[1;33m.\u001b[0m\u001b[0mend\u001b[0m\u001b[1;33m(\u001b[0m\u001b[1;33m)\u001b[0m\u001b[1;33m)\u001b[0m\u001b[1;33m\u001b[0m\u001b[0m\n\u001b[0m\u001b[0;32m    365\u001b[0m         \u001b[0mend\u001b[0m \u001b[1;33m=\u001b[0m \u001b[0m_w\u001b[0m\u001b[1;33m(\u001b[0m\u001b[0ms\u001b[0m\u001b[1;33m,\u001b[0m \u001b[0mend\u001b[0m\u001b[1;33m)\u001b[0m\u001b[1;33m.\u001b[0m\u001b[0mend\u001b[0m\u001b[1;33m(\u001b[0m\u001b[1;33m)\u001b[0m\u001b[1;33m\u001b[0m\u001b[0m\n\u001b[0;32m    366\u001b[0m         \u001b[1;32mif\u001b[0m \u001b[0mend\u001b[0m \u001b[1;33m!=\u001b[0m \u001b[0mlen\u001b[0m\u001b[1;33m(\u001b[0m\u001b[0ms\u001b[0m\u001b[1;33m)\u001b[0m\u001b[1;33m:\u001b[0m\u001b[1;33m\u001b[0m\u001b[0m\n",
      "\u001b[1;32m/home/lionfish/anaconda2/lib/python2.7/json/decoder.pyc\u001b[0m in \u001b[0;36mraw_decode\u001b[1;34m(self, s, idx)\u001b[0m\n\u001b[0;32m    380\u001b[0m             \u001b[0mobj\u001b[0m\u001b[1;33m,\u001b[0m \u001b[0mend\u001b[0m \u001b[1;33m=\u001b[0m \u001b[0mself\u001b[0m\u001b[1;33m.\u001b[0m\u001b[0mscan_once\u001b[0m\u001b[1;33m(\u001b[0m\u001b[0ms\u001b[0m\u001b[1;33m,\u001b[0m \u001b[0midx\u001b[0m\u001b[1;33m)\u001b[0m\u001b[1;33m\u001b[0m\u001b[0m\n\u001b[0;32m    381\u001b[0m         \u001b[1;32mexcept\u001b[0m \u001b[0mStopIteration\u001b[0m\u001b[1;33m:\u001b[0m\u001b[1;33m\u001b[0m\u001b[0m\n\u001b[1;32m--> 382\u001b[1;33m             \u001b[1;32mraise\u001b[0m \u001b[0mValueError\u001b[0m\u001b[1;33m(\u001b[0m\u001b[1;34m\"No JSON object could be decoded\"\u001b[0m\u001b[1;33m)\u001b[0m\u001b[1;33m\u001b[0m\u001b[0m\n\u001b[0m\u001b[0;32m    383\u001b[0m         \u001b[1;32mreturn\u001b[0m \u001b[0mobj\u001b[0m\u001b[1;33m,\u001b[0m \u001b[0mend\u001b[0m\u001b[1;33m\u001b[0m\u001b[0m\n",
      "\u001b[1;31mValueError\u001b[0m: No JSON object could be decoded"
     ]
    }
   ],
   "source": [
    "import requests\n",
    "import json\n",
    "postcode = 's63af'\n",
    "questions_asked = []\n",
    "\n",
    "#their address:\n",
    "questions_asked.append({'dataset':'postal','dataitem':'postcode','detail':'','answer':'s63af'})\n",
    "\n",
    "#Additional info from facebook:\n",
    "fb_data = json.dumps({'reply':json.dumps({'first_name':'Alan'})})\n",
    "questions_asked.append({'dataset':'facebook','dataitem':'','detail':'','answer':fb_data})\n",
    "\n",
    "#we assume that we've not processed any of these questions yet. \n",
    "#You'll only not do this if you've asked some of these already,\n",
    "#and populated the 'facts' dictionary.\n",
    "unprocessed_questions = questions_asked[:]\n",
    "facts = {}\n",
    "data = {'questions_asked':questions_asked,'unprocessed_questions':unprocessed_questions,'facts':facts}\n",
    "payload = {\"version\":1, 'data': data, 'apikey': 'YOUR_API_KEY_HERE'}\n",
    "r = requests.post(apiurl+'/inference',json=payload)\n",
    "print r.content\n",
    "\n",
    "result = json.loads(r.content)\n",
    "print \"==Facts==\"\n",
    "print result['facts']\n",
    "print \"\"\n",
    "print \"==Features==\"\n",
    "for feat in result['features']:\n",
    "    print feat\n",
    "    print result['features'][feat]\n",
    "print \"\"\n",
    "print \"==Text insights==\"\n",
    "print result['insights']"
   ]
  },
  {
   "cell_type": "markdown",
   "metadata": {},
   "source": [
    "(the UK ONS server's down, which has revealed a division-by-zero bug in my code, will fix)"
   ]
  },
  {
   "cell_type": "markdown",
   "metadata": {},
   "source": [
    "For the example above one can see that after just processing the answer about postcode, quite a bit of new info has been generated.\n",
    "\n",
    "First the facts dictionary. This is often dataset specific stuff, although I've tried to make things compatable between datasets.\n",
    "\n",
    " - 'guess_loc': {} - info on whether it guessed the location of the user from IP address (I think)\n",
    " - 'where': - the dictionary describing the location of the user's home. This is quite tricky, as different sources of data have different resolutions, etc about this.\n",
    "     - {'ukcensus': [{'item': 'E00172420', 'probability': 1.0, 'level': 'oa'}] - In terms of the UK census, with have a list of output areas for this person's home. This list only has one item in it. Each item in the list has a probability associated, in this case the probability is 1.0: We are certain the person is in that output area.\n",
    "     - 'country': [{'item': 'gb', 'probability': 1.0}] - Which country they're in. A list of countries with associated probabilities.\n",
    "     - 'city': [{'item': ['Sheffield', 'uk'], 'probability': 1.0}]} - which city their in (with probabilites).\n",
    "     - 'where_history': {u'error': u'no_fb_likes'}} - if we have access to facebook likes, it tries to generate a history of where the person's lived. But the error item means that it's not managed to get hold of the likes to do this.\n",
    "\n",
    "Next the features dictionary. Different datasets provide different conditional probability distributions. Each distribution has at least two features associated. If they are not in the list already the module adds them, thus one has a list of features at the end.\n",
    "\n",
    "The value of these features is then estimated using MCMC with the pyMC module.\n",
    "\n",
    "The example above has five features: religion, household, (census) output area, gender and age. They're all catagorical (for now) although that's purely due to the type of data that we have about them.\n",
    "\n",
    "Looking just at the household feature: [0.022222222222222223, 0.05688888888888889, 0.23466666666666666, 0.03244444444444444, 0.08266666666666667, 0.028, 0.059111111111111114, 0.03955555555555555, 0.14222222222222222, 0.024, 0.024444444444444446, 0.028444444444444446, 0.22533333333333333]\n",
    "\n",
    "Each value refers to the probability of being of a given type of household (the labels associated are available via the metadata of the module).\n",
    "\n",
    "Finally there are insights, these are simple strings of facts about the person:\n",
    " - \"I can't tell which country you're in, just looking at your facebook likes, as I can't see your facebook likes!\" - this first one is more of an error message warning us that we couldn't get to their facebook like data.\n",
    " - \"You are aged between 19 and 31\"\n",
    " - \"I think you are Christian or of no religion\"\n",
    " \n",
    "Here's another example, with an american zip code:"
   ]
  },
  {
   "cell_type": "code",
   "execution_count": 69,
   "metadata": {
    "collapsed": false,
    "scrolled": true
   },
   "outputs": [
    {
     "data": {
      "text/plain": [
       "'{\"facts\": {\"guess_loc\": {}, \"where\": {\"uscensus\": [{\"item\": [\"04\", \"015\", \"950100\", \"1\"], \"probability\": 0.514, \"level\": \"blockgroup\"}, {\"item\": [\"04\", \"015\", \"950100\", \"3\"], \"probability\": 0.486, \"level\": \"blockgroup\"}], \"city\": [{\"item\": [\"Colorado City, AZ\", \"us\"], \"probability\": 1.0}], \"country\": [{\"item\": \"us\", \"probability\": 1.0}]}, \"where_history\": {\"error\": \"no_fb_likes\"}}, \"features\": {\"bg\": {\"distribution\": [0.5075555555555555, 0.49244444444444446], \"quartiles\": {\"upper\": 1, \"lower\": 0, \"mean\": 0.49244444444444446}}, \"factor_gender\": {\"distribution\": [0.48844444444444446, 0.5115555555555555], \"quartiles\": {\"upper\": 1, \"lower\": 0, \"mean\": 0.5115555555555555}}, \"factor_age\": {\"distribution\": [0.0057777777777777775, 0.030222222222222223, 0.022222222222222223, 0.02666666666666667, 0.016888888888888887, 0.03688888888888889, 0.028, 0.04133333333333333, 0.029777777777777778, 0.03866666666666667, 0.03155555555555556, 0.05333333333333334, 0.03688888888888889, 0.02666666666666667, 0.044, 0.024444444444444446, 0.017333333333333333, 0.02666666666666667, 0.016, 0.016444444444444446, 0.015111111111111112, 0.011111111111111112, 0.009333333333333334, 0.0071111111111111115, 0.006222222222222222, 0.010222222222222223, 0.010222222222222223, 0.010222222222222223, 0.009333333333333334, 0.007555555555555556, 0.009777777777777778, 0.006666666666666667, 0.011111111111111112, 0.008444444444444444, 0.0044444444444444444, 0.016888888888888887, 0.009333333333333334, 0.009777777777777778, 0.013333333333333334, 0.013333333333333334, 0.009777777777777778, 0.010666666666666666, 0.012888888888888889, 0.011111111111111112, 0.012444444444444444, 0.005333333333333333, 0.008888888888888889, 0.006666666666666667, 0.004888888888888889, 0.004, 0.008, 0.006222222222222222, 0.009333333333333334, 0.010666666666666666, 0.009333333333333334, 0.0022222222222222222, 0.0026666666666666666, 0.0035555555555555557, 0.0022222222222222222, 0.0035555555555555557, 0.0057777777777777775, 0.008, 0.003111111111111111, 0.0026666666666666666, 0.0022222222222222222, 0.006666666666666667, 0.008444444444444444, 0.0035555555555555557, 0.004, 0.0022222222222222222, 0.0026666666666666666, 0.004888888888888889, 0.003111111111111111, 0.0026666666666666666, 0.0026666666666666666, 0.0022222222222222222, 0.0013333333333333333, 0.0022222222222222222, 0.0017777777777777779, 0.0013333333333333333, 0.0013333333333333333, 0.0017777777777777779, 0.0013333333333333333, 0.0022222222222222222, 0.00044444444444444447, 0.0, 0.0026666666666666666, 0.0008888888888888889, 0.00044444444444444447, 0.0008888888888888889, 0.0, 0.0008888888888888889, 0.0, 0.0, 0.0008888888888888889, 0.00044444444444444447, 0.00044444444444444447], \"quartiles\": {\"upper\": 38, \"lower\": 9, \"mean\": 24.341777777777775}}}, \"insights\": [\"US Census insights\", \"[[ 246.24   297.654  254.732   83.15    81.804   20.29    29.262   64.588\\\\n    40.466   68.962   70.356   83.46    18.112   70.542   31.038    8.748\\\\n     2.916    6.682    8.402   10.692    9.234    0.       0.   ]\\\\n [ 266.01   268.516  227.344  151.924   97.      29.308   30.71    23.\\\\n   118.408   63.598   97.412   80.758   64.832   63.55    21.57    20.804\\\\n    12.43    18.486    4.598   10.832    2.916    5.028    3.084]]\", \"Half the people in your area are under the age of 18\", \"Note: I can\\'t see your facebook likes.\", \"OSM Answer system online\"]}'"
      ]
     },
     "execution_count": 69,
     "metadata": {},
     "output_type": "execute_result"
    }
   ],
   "source": [
    "import requests\n",
    "questions_asked = [{'dataset':'postal','dataitem':'zipcode','detail':'','answer':'86021'}]\n",
    "unprocessed_questions = [{'dataset':'postal','dataitem':'zipcode','detail':'','answer':'86021'}]\n",
    "facts = {}\n",
    "        \n",
    "data = {'questions_asked':questions_asked,'unprocessed_questions':unprocessed_questions,'facts':facts}\n",
    "\n",
    "payload = {\"version\":1, 'data': data, 'apikey': 'YOUR_API_KEY_HERE'}\n",
    "r = requests.post(apiurl+'/inference',json=payload)\n",
    "r.content"
   ]
  },
  {
   "cell_type": "markdown",
   "metadata": {},
   "source": [
    "You can see this is similar, except the 'where' item in the dictionary has a 'uscensus' item within it. This contains two items:\n",
    "\n",
    "    {\"item\": [\"04\", \"015\", \"950100\", \"1\"], \"probability\": 0.514, \"level\": \"blockgroup\"}\n",
    "    {\"item\": [\"04\", \"015\", \"950100\", \"3\"], \"probability\": 0.486, \"level\": \"blockgroup\"}\n",
    "\n",
    "Because zipcodes cover quite large areas, it doesn't know which blockgroup the person's home is in, as the zip code spans more than one blockgroup. It therefore gives the probability of being in the two.\n",
    "\n",
    "The US census module doesn't know about religion, so doesn't have a conditional probability distribution about it, so no religion feature is created. The features that are created are:\n",
    "\n",
    " - bg (block group)\n",
    " - gender\n",
    " - age"
   ]
  },
  {
   "cell_type": "markdown",
   "metadata": {},
   "source": [
    "### 3. Metadata *[action: metadata]*\n",
    "\n",
    "Some of the classes provide metadata about the results. Use the 'metadata' action to retrieve these. Pass a dictionary in 'data' with the name of the dataset, or leave empty to get all the metadata of all the classes.\n",
    "\n",
    "In this example we display the citation information for the 'babynames' dataset."
   ]
  },
  {
   "cell_type": "code",
   "execution_count": 71,
   "metadata": {
    "collapsed": false
   },
   "outputs": [
    {
     "name": "stdout",
     "output_type": "stream",
     "text": [
      "The ONS provide statistics on the distribution of the names of baby's in the UK: <a href=\"http://www.ons.gov.uk/ons/about-ons/business-transparency/freedom-of-information/what-can-i-request/published-ad-hoc-data/pop/august-2014/baby-names-1996-2013.xls\">1996-2013</a> and <a href=\"http://www.ons.gov.uk/ons/rel/vsob1/baby-names--england-and-wales/1904-1994/top-100-baby-names-historical-data.xls\">1904-1994</a>.\n"
     ]
    }
   ],
   "source": [
    "import requests\n",
    "import json\n",
    "data = {'dataset':'babynames'}\n",
    "payload = {\"version\":1, 'data': data, 'apikey': 'YOUR_API_KEY_HERE'}\n",
    "r = requests.post(apiurl+'/metadata',json=payload)\n",
    "for item in json.loads(r.content):\n",
    "    if 'citation' in item:\n",
    "        print(item['citation'])"
   ]
  },
  {
   "cell_type": "markdown",
   "metadata": {},
   "source": [
    "In this example we get all citations:"
   ]
  },
  {
   "cell_type": "code",
   "execution_count": 72,
   "metadata": {
    "collapsed": false
   },
   "outputs": [
    {
     "name": "stdout",
     "output_type": "stream",
     "text": [
      "The <a href=\"http://files.grouplens.org/datasets/movielens\">movielens</a> database\n",
      "The <a href=\"http://www.ons.gov.uk/ons/guide-method/census/2011/census-data/ons-data-explorer--beta-/index.html\">UK office of national statistics</a>\n",
      "The ONS provide statistics on the distribution of the names of baby's in the UK: <a href=\"http://www.ons.gov.uk/ons/about-ons/business-transparency/freedom-of-information/what-can-i-request/published-ad-hoc-data/pop/august-2014/baby-names-1996-2013.xls\">1996-2013</a> and <a href=\"http://www.ons.gov.uk/ons/rel/vsob1/baby-names--england-and-wales/1904-1994/top-100-baby-names-historical-data.xls\">1904-1994</a>.\n",
      "The <a href=\"facebook.com\">facebook</a> graph API\n",
      "The <a href=\"http://www.census.gov/developers/\">US census bureau</a>. In particular the American Community Survey <a href=\"http://www.census.gov/data/developers/data-sets/acs-survey-5-year-data.html\">5 year data</a>.\n",
      "The <a href=\"freegeoip.net\">freegeoip.net</a> API\n",
      "The <a href=\"https://geoportal.statistics.gov.uk\">UK office of national statistics</a> (see <a href=\"http://www.ons.gov.uk/ons/guide-method/geography/products/census/lookup/other/index.html\">details</a> and <a href=\"https://geoportal.statistics.gov.uk/geoportal/catalog/search/resource/details.page?uuid={A33B0569-97E2-4F44-836C-B656A6D082B6} \">information</a>) and the US zipcode data was from <a href=\"http://mcdc.missouri.edu\">Missouri's Census Data Center.\n",
      "The <a href=\"bandsintown.com\">bandsintown.com</a> API\n"
     ]
    }
   ],
   "source": [
    "import requests\n",
    "import json\n",
    "data = {}#no dataset specified (makes it output all metadata)\n",
    "payload = {\"version\":1, 'data': data, 'apikey': 'YOUR_API_KEY_HERE'}\n",
    "r = requests.post(apiurl+'/metadata',json=payload)\n",
    "for item in json.loads(r.content):\n",
    "    if 'citation' in item:\n",
    "        print(item['citation'])"
   ]
  },
  {
   "cell_type": "markdown",
   "metadata": {},
   "source": [
    "### 4. Psychometrics, provided by Cambridge\n",
    "\n",
    "This calls the psychometric analysis, provided by Cambridge."
   ]
  },
  {
   "cell_type": "code",
   "execution_count": 73,
   "metadata": {
    "collapsed": false
   },
   "outputs": [
    {
     "data": {
      "text/plain": [
       "'{\"ope\": 3.34, \"con\": 2.92, \"ext\": 3.14, \"agr\": 3.02, \"neu\": 2.99}'"
      ]
     },
     "execution_count": 73,
     "metadata": {},
     "output_type": "execute_result"
    }
   ],
   "source": [
    "import requests\n",
    "\n",
    "user_status = \"\"\" LOL! 'Take a deep breath\\n2. think of someone u like\\n3. press F10 5 times\\n4. send this to 5 coments\\n5. look at ur background\\n9 minutes ago ', 'Rotate your facebook friends omg =).  http://tinyurl.com/37wdxok', 'sarap!!!!!!!!!!!!!!!!!1', '???? Happy New Year In Advance!! ????? ?????????????????????????????????? ????????????????????????????????? ???????????????????????????? ????? ?????????????????????????????????? ?????????????????????????????????? ?????????????????????????????????? ??????????????????????????????????', 'Rotate your facebook friends omg =).  http://tinyurl.com/2ug8r4c', \"Apple finally gives away 100 Iphone 4's\\n http://apps.facebook.com/qbquiz-ghflb\", 'ano susuutin bukas ??????', 'Rotate your facebook friends omg =).  http://tinyurl.com/3xngp4s', 'Rotate your facebook friends omg =).  http://tinyurl.com/3354776', ':)?', 'Rotate your facebook friends omg =).  http://tinyurl.com/35ssbf9', 'AnOng sTanza Kana Roseangeli Salvador', 'Rotate your facebook friends omg =).  http://tinyurl.com/2vvpw55', 'Rotate your facebook friends omg =).  http://tinyurl.com/2wmv4au', 'Rotate your facebook friends omg =).  http://tinyurl.com/32f7z4z', '-', 'Pls like 4 ST PAUL!!!!!!!!!!?', 'HAPPY NEW YEAR!!!!!', 'EXAM NA BUKAS!!!!!!!!!? ?', 'POINTER TO REVIEW IN READING 4\\n-synonyms and antonyms\\n-words with silent letters\\n -simile and methaphor\\n-idiomatic expressions\\n-consonant digraphs\\ngaling kay ms nabong yan', 'Rotate your facebook friends omg =).  http://tinyurl.com/346gw6w', 'POINTER TO REVIEW IN READING 4-synonyms and antonyms-words with silent letters -simile and methaphor-idiomatic expressions-consonant digraphsgaling kay ms nabong yan', 'IS WATCHING SHOUTOUT', 'Rotate your facebook friends omg =).  http://tinyurl.com/37ne983', \"Apple finally gives away 100 Iphone 4's http://apps.facebook.com/rxytnkgo\", 'Rotate your facebook friends omg =).  http://tinyurl.com/35tplvh', 'Rotate your facebook friends omg =).  http://tinyurl.com/33oua5o', 'Rotate your facebook friends omg =).  http://tinyurl.com/38k6hmn', 'Rotate your facebook friends omg =).  http://tinyurl.com/2w2o7am', 'Rotate your facebook friends omg =).  http://tinyurl.com/3ajg5b3', 'Gwyneth Erin M. Nohay ano size nung cardcase?', \"------[]------ put this\\n--[][][][][]-- as your\\n------[]------ status if\\n------[]------ you're a christian\\n------[]------ and not ashamed\", 'te Shiela Mae Tolentino thankyou sa psp and chocolates:)', '??????????????????????????? ??????????????????????????? ???????????????????????????\\n\\n                             vs\\n\\n?????????????????????????? \\n?????????????????????????? \\n??????????????????????????', \"TEACHER: juan! may 5 ibon na nakaupo sa bakod, pag binaril mo ang isa..ilan ang matitira?\\n\\nJUAN: wala po ma'am.\\n\\nTEACHER: bobo ka ba?! bat mo nasabing wala?! sige nga?!\\n\\nJUAN: dahil isang putok mo lang ng baril aalis lahat ng ibon at walang matitira! bobo! ikaw ang maupo dito, at ako ang magtuturo!\\n\\n// matalino XD\", '???????????????????????\\n??????? ? If you love JESUS\\n????????????copy this in your wall ???????????????????????\\n?????????????????????\\n??????? ? ?', 'This year October has 5 Mondays, 5 Saturdays and 5 Sundays. This Happens once every 823years. This is called money bags. So copy this to your status and money will arrive within 4days. Based on Chinese Feng Shui. The one who does not copy, will be without money', \"I know 10 facts about you\\n\\n1. You are reading this.\\n2. You can't say M without touching your lips\\n3. You just tried it\\n... 4. You just smiled or laughed.\\n6. You are a boy/girl.\\n7. You didnt realize I skipped 5.\\n8. You are looking back at 4 and 6.\\n9. You are liking this.\\n10. You are reading me telling you to like this.\\n\\nLIKE THIS STATUS IF YOU DID THOSE THINGS\"]\"\"\"\n",
    "\n",
    "#Build the dictionary:\n",
    "data = {'userstatus':user_status}\n",
    "\n",
    "#put it into the payload of the request. This also includes the version, the api key we're using and the action we want (in this case generate a question)\n",
    "payload = {\"version\":1, 'data': data, 'apikey': 'YOUR_API_KEY_HERE'}\n",
    "r = requests.post(apiurl+'/psych',json=payload)\n",
    "r.content"
   ]
  },
  {
   "cell_type": "markdown",
   "metadata": {},
   "source": [
    "### 5. Get server API version"
   ]
  },
  {
   "cell_type": "code",
   "execution_count": 74,
   "metadata": {
    "collapsed": false
   },
   "outputs": [
    {
     "data": {
      "text/plain": [
       "'{\"version\": \"1.0\"}'"
      ]
     },
     "execution_count": 74,
     "metadata": {},
     "output_type": "execute_result"
    }
   ],
   "source": [
    "import requests\n",
    "\n",
    "r = requests.post(apiurl+'/version') #post or get works for this.\n",
    "r.content"
   ]
  },
  {
   "cell_type": "markdown",
   "metadata": {},
   "source": [
    "## Typical API usage\n",
    "\n",
    "The scikic front end may use the API in the following way."
   ]
  },
  {
   "cell_type": "code",
   "execution_count": 75,
   "metadata": {
    "collapsed": false
   },
   "outputs": [
    {
     "name": "stdout",
     "output_type": "stream",
     "text": [
      "What's your favourite band or artist? (be honest!)Eels\n",
      "What is your age?33\n",
      "Which country are you in now?UK\n"
     ]
    },
    {
     "ename": "ValueError",
     "evalue": "No JSON object could be decoded",
     "output_type": "error",
     "traceback": [
      "\u001b[1;31m---------------------------------------------------------------------------\u001b[0m",
      "\u001b[1;31mValueError\u001b[0m                                Traceback (most recent call last)",
      "\u001b[1;32m<ipython-input-75-15fc06ffa14f>\u001b[0m in \u001b[0;36m<module>\u001b[1;34m()\u001b[0m\n\u001b[0;32m     31\u001b[0m \u001b[0mpayload\u001b[0m \u001b[1;33m=\u001b[0m \u001b[1;33m{\u001b[0m\u001b[1;34m\"version\"\u001b[0m\u001b[1;33m:\u001b[0m\u001b[1;36m1\u001b[0m\u001b[1;33m,\u001b[0m \u001b[1;34m'data'\u001b[0m\u001b[1;33m:\u001b[0m \u001b[0mdata\u001b[0m\u001b[1;33m,\u001b[0m \u001b[1;34m'apikey'\u001b[0m\u001b[1;33m:\u001b[0m \u001b[1;34m'YOUR_API_KEY_HERE'\u001b[0m\u001b[1;33m}\u001b[0m\u001b[1;33m\u001b[0m\u001b[0m\n\u001b[0;32m     32\u001b[0m \u001b[0mr\u001b[0m \u001b[1;33m=\u001b[0m \u001b[0mrequests\u001b[0m\u001b[1;33m.\u001b[0m\u001b[0mpost\u001b[0m\u001b[1;33m(\u001b[0m\u001b[0mapiurl\u001b[0m\u001b[1;33m+\u001b[0m\u001b[1;34m'/inference'\u001b[0m\u001b[1;33m,\u001b[0m\u001b[0mjson\u001b[0m\u001b[1;33m=\u001b[0m\u001b[0mpayload\u001b[0m\u001b[1;33m)\u001b[0m\u001b[1;33m\u001b[0m\u001b[0m\n\u001b[1;32m---> 33\u001b[1;33m \u001b[0minference_results\u001b[0m \u001b[1;33m=\u001b[0m \u001b[0mjson\u001b[0m\u001b[1;33m.\u001b[0m\u001b[0mloads\u001b[0m\u001b[1;33m(\u001b[0m\u001b[0mr\u001b[0m\u001b[1;33m.\u001b[0m\u001b[0mcontent\u001b[0m\u001b[1;33m)\u001b[0m\u001b[1;33m\u001b[0m\u001b[0m\n\u001b[0m\u001b[0;32m     34\u001b[0m \u001b[1;33m\u001b[0m\u001b[0m\n\u001b[0;32m     35\u001b[0m \u001b[1;31m#It generates insights from these questions, which are displayed below.\u001b[0m\u001b[1;33m\u001b[0m\u001b[1;33m\u001b[0m\u001b[0m\n",
      "\u001b[1;32m/home/lionfish/anaconda2/lib/python2.7/json/__init__.pyc\u001b[0m in \u001b[0;36mloads\u001b[1;34m(s, encoding, cls, object_hook, parse_float, parse_int, parse_constant, object_pairs_hook, **kw)\u001b[0m\n\u001b[0;32m    337\u001b[0m             \u001b[0mparse_int\u001b[0m \u001b[1;32mis\u001b[0m \u001b[0mNone\u001b[0m \u001b[1;32mand\u001b[0m \u001b[0mparse_float\u001b[0m \u001b[1;32mis\u001b[0m \u001b[0mNone\u001b[0m \u001b[1;32mand\u001b[0m\u001b[1;33m\u001b[0m\u001b[0m\n\u001b[0;32m    338\u001b[0m             parse_constant is None and object_pairs_hook is None and not kw):\n\u001b[1;32m--> 339\u001b[1;33m         \u001b[1;32mreturn\u001b[0m \u001b[0m_default_decoder\u001b[0m\u001b[1;33m.\u001b[0m\u001b[0mdecode\u001b[0m\u001b[1;33m(\u001b[0m\u001b[0ms\u001b[0m\u001b[1;33m)\u001b[0m\u001b[1;33m\u001b[0m\u001b[0m\n\u001b[0m\u001b[0;32m    340\u001b[0m     \u001b[1;32mif\u001b[0m \u001b[0mcls\u001b[0m \u001b[1;32mis\u001b[0m \u001b[0mNone\u001b[0m\u001b[1;33m:\u001b[0m\u001b[1;33m\u001b[0m\u001b[0m\n\u001b[0;32m    341\u001b[0m         \u001b[0mcls\u001b[0m \u001b[1;33m=\u001b[0m \u001b[0mJSONDecoder\u001b[0m\u001b[1;33m\u001b[0m\u001b[0m\n",
      "\u001b[1;32m/home/lionfish/anaconda2/lib/python2.7/json/decoder.pyc\u001b[0m in \u001b[0;36mdecode\u001b[1;34m(self, s, _w)\u001b[0m\n\u001b[0;32m    362\u001b[0m \u001b[1;33m\u001b[0m\u001b[0m\n\u001b[0;32m    363\u001b[0m         \"\"\"\n\u001b[1;32m--> 364\u001b[1;33m         \u001b[0mobj\u001b[0m\u001b[1;33m,\u001b[0m \u001b[0mend\u001b[0m \u001b[1;33m=\u001b[0m \u001b[0mself\u001b[0m\u001b[1;33m.\u001b[0m\u001b[0mraw_decode\u001b[0m\u001b[1;33m(\u001b[0m\u001b[0ms\u001b[0m\u001b[1;33m,\u001b[0m \u001b[0midx\u001b[0m\u001b[1;33m=\u001b[0m\u001b[0m_w\u001b[0m\u001b[1;33m(\u001b[0m\u001b[0ms\u001b[0m\u001b[1;33m,\u001b[0m \u001b[1;36m0\u001b[0m\u001b[1;33m)\u001b[0m\u001b[1;33m.\u001b[0m\u001b[0mend\u001b[0m\u001b[1;33m(\u001b[0m\u001b[1;33m)\u001b[0m\u001b[1;33m)\u001b[0m\u001b[1;33m\u001b[0m\u001b[0m\n\u001b[0m\u001b[0;32m    365\u001b[0m         \u001b[0mend\u001b[0m \u001b[1;33m=\u001b[0m \u001b[0m_w\u001b[0m\u001b[1;33m(\u001b[0m\u001b[0ms\u001b[0m\u001b[1;33m,\u001b[0m \u001b[0mend\u001b[0m\u001b[1;33m)\u001b[0m\u001b[1;33m.\u001b[0m\u001b[0mend\u001b[0m\u001b[1;33m(\u001b[0m\u001b[1;33m)\u001b[0m\u001b[1;33m\u001b[0m\u001b[0m\n\u001b[0;32m    366\u001b[0m         \u001b[1;32mif\u001b[0m \u001b[0mend\u001b[0m \u001b[1;33m!=\u001b[0m \u001b[0mlen\u001b[0m\u001b[1;33m(\u001b[0m\u001b[0ms\u001b[0m\u001b[1;33m)\u001b[0m\u001b[1;33m:\u001b[0m\u001b[1;33m\u001b[0m\u001b[0m\n",
      "\u001b[1;32m/home/lionfish/anaconda2/lib/python2.7/json/decoder.pyc\u001b[0m in \u001b[0;36mraw_decode\u001b[1;34m(self, s, idx)\u001b[0m\n\u001b[0;32m    380\u001b[0m             \u001b[0mobj\u001b[0m\u001b[1;33m,\u001b[0m \u001b[0mend\u001b[0m \u001b[1;33m=\u001b[0m \u001b[0mself\u001b[0m\u001b[1;33m.\u001b[0m\u001b[0mscan_once\u001b[0m\u001b[1;33m(\u001b[0m\u001b[0ms\u001b[0m\u001b[1;33m,\u001b[0m \u001b[0midx\u001b[0m\u001b[1;33m)\u001b[0m\u001b[1;33m\u001b[0m\u001b[0m\n\u001b[0;32m    381\u001b[0m         \u001b[1;32mexcept\u001b[0m \u001b[0mStopIteration\u001b[0m\u001b[1;33m:\u001b[0m\u001b[1;33m\u001b[0m\u001b[0m\n\u001b[1;32m--> 382\u001b[1;33m             \u001b[1;32mraise\u001b[0m \u001b[0mValueError\u001b[0m\u001b[1;33m(\u001b[0m\u001b[1;34m\"No JSON object could be decoded\"\u001b[0m\u001b[1;33m)\u001b[0m\u001b[1;33m\u001b[0m\u001b[0m\n\u001b[0m\u001b[0;32m    383\u001b[0m         \u001b[1;32mreturn\u001b[0m \u001b[0mobj\u001b[0m\u001b[1;33m,\u001b[0m \u001b[0mend\u001b[0m\u001b[1;33m\u001b[0m\u001b[0m\n",
      "\u001b[1;31mValueError\u001b[0m: No JSON object could be decoded"
     ]
    }
   ],
   "source": [
    "import requests\n",
    "\n",
    "#We start with no questions asked, none unprocessed, and nothing in the facts dictionary.\n",
    "questions_asked = []\n",
    "unprocessed_questions = []\n",
    "facts = {}\n",
    "\n",
    "for loop in range(3): #we'll ask three questions\n",
    "    \n",
    "    #1. get the question (populate the data dictionary & send it off)\n",
    "    data = {'unprocessed_questions':unprocessed_questions,'questions_asked':questions_asked,'facts':facts}\n",
    "    payload = {\"version\":1, 'data': data, 'apikey': 'YOUR_API_KEY_HERE'}\n",
    "    r = requests.post(apiurl+'/question',json=payload) #>>>\n",
    "    question_query_result = json.loads(r.content)\n",
    "    \n",
    "    #if processing was done then more items will be available for 'facts':\n",
    "    facts = question_query_result['facts']\n",
    "    question = question_query_result['question']\n",
    "    #ask the user this question    \n",
    "    userinput = raw_input(question_query_result['question_string']['question'])\n",
    "    question['answer'] = userinput #add their answer\n",
    "\n",
    "    #add this to the list of questions we've asked, and unprocessed questions\n",
    "    questions_asked.append(question)\n",
    "    unprocessed_questions.append(question)\n",
    "    \n",
    "#3. Once enough questions are asked we can do inference.\n",
    "#   Populate the data dictionary with questions asked,\n",
    "#   unprocessed questions and facts (as for the question query in step 1)\n",
    "data = {'questions_asked':questions_asked,'unprocessed_questions':unprocessed_questions,'facts':facts}\n",
    "payload = {\"version\":1, 'data': data, 'apikey': 'YOUR_API_KEY_HERE'}\n",
    "r = requests.post(apiurl+'/inference',json=payload)\n",
    "inference_results = json.loads(r.content)\n",
    "\n",
    "#It generates insights from these questions, which are displayed below.\n",
    "print \"\\nInsights\\n\"\n",
    "for insight in inference_results['insights']:\n",
    "    print insight"
   ]
  },
  {
   "cell_type": "markdown",
   "metadata": {},
   "source": [
    "(same bug as before)"
   ]
  },
  {
   "cell_type": "markdown",
   "metadata": {
    "collapsed": true
   },
   "source": [
    "# Scikic System\n",
    "\n",
    "## Instances\n",
    "\n",
    "I'm not currently working on the front end, as that's being taken over by Vasily. The latest API server is running on the development server: dev.scikic.org.\n",
    "\n",
    "An autoscaling group, launch configuration and load balancer are used to provide the backend processing on the production machines. This will include SSL. The launch configuration uses the 'Production BackEnd Image' instance to produce the AMI.\n",
    "\n",
    "### Recipe for self to update backend\n",
    "\n",
    "1. On the dev system run nosetest.\n",
    "2. Push the changes to git\n",
    "3. On the production backend image server, pull the changes.\n",
    "4. Right click on server, create image.\n",
    "5. image name: production-backend-120116.\n",
    "\n",
    "6. Click on launch configurations\n",
    "7. Create Launch Cofiguration\n",
    "8. Select the new image name you just created\n",
    "9. Select t2.medium\n",
    "10. Name: production-backend-120116-lc\n",
    "11. Next> Delete both on termination.\n",
    "12. Select existing security group (production backend)\n",
    "13. Launch\n",
    "\n",
    "14. Autoscaling group. Select the production-backend-4-asg and click edit\n",
    "15. Select the new launch configuration\n",
    "\n",
    "\n",
    "## DNS\n",
    "\n",
    "DNS is provided by namecheap (see Neil for username/password). I've set the nameservers for scikic.org to point to the AWS Route53 DNS system.\n",
    "\n",
    "## How to configure in the future\n",
    "\n",
    "- cloudinit\n"
   ]
  },
  {
   "cell_type": "markdown",
   "metadata": {
    "collapsed": true
   },
   "source": [
    "# Stress Testing - Out of Date\n",
    "\n",
    "To test how well the system copes under load, this script calls the API multiple times:"
   ]
  },
  {
   "cell_type": "code",
   "execution_count": 30,
   "metadata": {
    "collapsed": false
   },
   "outputs": [
    {
     "name": "stdout",
     "output_type": "stream",
     "text": [
      "Launching 240 processes over the next 120 seconds\n",
      "(launch)\n",
      "(launch)\n",
      "(launch)\n",
      "(launch)\n",
      "(launch)\n"
     ]
    },
    {
     "ename": "KeyboardInterrupt",
     "evalue": "",
     "output_type": "error",
     "traceback": [
      "\u001b[1;31m---------------------------------------------------------------------------\u001b[0m",
      "\u001b[1;31mKeyboardInterrupt\u001b[0m                         Traceback (most recent call last)",
      "\u001b[1;32m<ipython-input-30-b02dbe0adf2e>\u001b[0m in \u001b[0;36m<module>\u001b[1;34m()\u001b[0m\n\u001b[0;32m     21\u001b[0m         \u001b[0mt\u001b[0m \u001b[1;33m=\u001b[0m \u001b[0mThread\u001b[0m\u001b[1;33m(\u001b[0m\u001b[0mtarget\u001b[0m\u001b[1;33m=\u001b[0m\u001b[0mmyfunc\u001b[0m\u001b[1;33m,\u001b[0m \u001b[0margs\u001b[0m\u001b[1;33m=\u001b[0m\u001b[1;33m(\u001b[0m\u001b[0mi\u001b[0m\u001b[1;33m,\u001b[0m\u001b[1;33m)\u001b[0m\u001b[1;33m)\u001b[0m\u001b[1;33m\u001b[0m\u001b[0m\n\u001b[0;32m     22\u001b[0m         \u001b[0mt\u001b[0m\u001b[1;33m.\u001b[0m\u001b[0mstart\u001b[0m\u001b[1;33m(\u001b[0m\u001b[1;33m)\u001b[0m\u001b[1;33m\u001b[0m\u001b[0m\n\u001b[1;32m---> 23\u001b[1;33m         \u001b[0mtime\u001b[0m\u001b[1;33m.\u001b[0m\u001b[0msleep\u001b[0m\u001b[1;33m(\u001b[0m\u001b[1;36m120.\u001b[0m\u001b[1;33m/\u001b[0m\u001b[0mit\u001b[0m\u001b[1;33m)\u001b[0m\u001b[1;33m\u001b[0m\u001b[0m\n\u001b[0m",
      "\u001b[1;31mKeyboardInterrupt\u001b[0m: "
     ]
    }
   ],
   "source": [
    "import requests\n",
    "import time\n",
    "from threading import Thread\n",
    "\n",
    "def myfunc(i):\n",
    "    print \"(launch)\"\n",
    "    questions_asked = [{'dataset':'postal','dataitem':'postcode','detail':'','answer':'s63af'}]\n",
    "    unprocessed_questions = [{'dataset':'postal','dataitem':'postcode','detail':'','answer':'s63af'}]\n",
    "    facts = {}\n",
    "        \n",
    "    data = {'questions_asked':questions_asked,'unprocessed_questions':unprocessed_questions,'facts':facts}\n",
    "    payload = {\"version\":1, 'data': data, 'apikey': 'YOUR_API_KEY_HERE', 'action':'inference'}\n",
    "    url = \"http://api.scikic.org\"\n",
    "    r = requests.post(url,json=payload)\n",
    "    print r.content\n",
    "\n",
    "it = 240\n",
    "for itn in range(1,600):\n",
    "    print \"Launching %d processes over the next 120 seconds\" % it\n",
    "    for i in range(it):\n",
    "        t = Thread(target=myfunc, args=(i,))\n",
    "        t.start()\n",
    "        time.sleep(120./it)\n"
   ]
  },
  {
   "cell_type": "markdown",
   "metadata": {
    "collapsed": true
   },
   "source": [
    "## Questions\n",
    "\n",
    "- What happens if a class doesn't return a None question (but instead actually has a question)? But it also needs processing?"
   ]
  }
 ],
 "metadata": {
  "kernelspec": {
   "display_name": "Python 2",
   "language": "python",
   "name": "python2"
  },
  "language_info": {
   "codemirror_mode": {
    "name": "ipython",
    "version": 2
   },
   "file_extension": ".py",
   "mimetype": "text/x-python",
   "name": "python",
   "nbconvert_exporter": "python",
   "pygments_lexer": "ipython2",
   "version": "2.7.11"
  }
 },
 "nbformat": 4,
 "nbformat_minor": 0
}
