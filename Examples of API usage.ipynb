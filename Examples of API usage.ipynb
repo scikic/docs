{
 "cells": [
  {
   "cell_type": "markdown",
   "metadata": {},
   "source": [
    "#Scikic API v0.2\n",
    " \n",
    "Here are some examples of the API in action. A POST request is used for the query, in case the data we're sending is too large to fit in a GET request. Note it always uses POST (so not using the range of HTTP queries).\n",
    "\n",
    "###Overview\n",
    "\n",
    "The scikic api is an inference tool which takes a set of question/answer items and then queries a series of local and distant databases to generate conditional probability distributions over various features. The api is highly modular, and some modules don't use this probabilistic framework, for example the music module simply contacts api.bandsintown.com to provide useful suggestions about local bands to go and see.\n",
    "\n",
    "The conditional probabilities are combined using a Bayesian network, using the pyMC module. Each module can provide pyMC 'features' which create functions to output the relevant probability distributions.\n",
    "\n",
    "###Question/Answer dictionaries\n",
    "\n",
    "The questions and answers are organised to be in 4 value tuples, containing:\n",
    "\n",
    "- dataset: lets the system know which class to instantiate etc, examples: postcode, census, movielens, ...etc\n",
    "- dataitem: used by classes to know which aspect of the dataset. For example in the movielens dataset, one could be interested in whether the user's seen a film or what rating they've given the film.\n",
    "- detail: often unused by the classes, could be, for example the id of the film we want to know about.\n",
    "- answer: the user's answer.\n",
    "\n",
    "###1. Get a suggestion for a question to answer *[action: question]*\n",
    "\n",
    "####Parameters\n",
    "One passes to this call in data, a dictionary containing:\n",
    " - 'questions_asked'\n",
    " - 'unprocessed_questions'\n",
    " - 'facts'\n",
    " - 'target'\n",
    "\n",
    "The 'questions_asked' include all the questions we've asked, so we don't ask the same question again.\n",
    "The 'facts' dictionary contains information that we've found from earlier questions, etc. It allows caching of the calculations from earlier calls to the API.\n",
    "The 'unprocessed_questions' are a list of question/answers that we've asked before, that haven't had their results added to the 'facts' dictionary.\n",
    "The 'target' item is currently unused, but in the future will allow the choice of question to be selected to maximise the information about a particular feature.\n",
    "\n",
    "####Returns\n",
    "\n",
    "This call (updated) returns a dictionary containing two things:\n",
    "\n",
    " - a 'facts' dictionary - this you can pass back in future so that the method doesn't have to recalculate or generate earlier results.\n",
    " - a 'question' dictionary, containing the dictionary describing the question, e.g. {dataset,dataitem,detail}.\n",
    "\n",
    "'data' contains a list of previous asked (and answered) questions, to allow an optimum question to be asked.\n",
    "\n",
    "####Usage example\n",
    "\n",
    "1. One might initially call this method with all these fields being empty. The method will return an empty 'facts' dictionary and a question dictionary for the first question you want to ask. \n",
    "2. Once you have an answer from the user you would call the method again, this time with the question/answer tuple as both 'questions_asked' and 'unprocessed_questions'.\n",
    "3. The method will return a facts dictionary now, potentially with some results from the processing of the last answer, and another question for you to ask. \n",
    "4. When you call the method a third time (with the user's second answer), you'll pass all the question/answer tuples that you've asked so far in 'questions_asked' and the last question/answer tuple in 'unprocessed_questions'. You'll also pass the new facts dictionary, that now has some content in it.\n",
    "5. This process continues, with the facts dictionary growing each time, the 'questions_asked' growing too, and each time you just have one item in 'unprocessed_questions'.\n",
    "\n",
    "To summarise:\n",
    "\n",
    "Generating a question requires a dictionary of 'questions_asked', 'facts' and 'target'. The 'questions_asked' is a list of dictionaries of previous questions, that you want to avoid asking again.\n",
    "The 'unprocessed_questions' are questions that you've asked already and that haven't been incorporated into the 'facts' dictionary."
   ]
  },
  {
   "cell_type": "code",
   "execution_count": 1,
   "metadata": {
    "collapsed": true
   },
   "outputs": [],
   "source": [
    "#apiurl = 'http://scikic.org/api/api.cgi';\n",
    "#apiurl = 'http://127.0.0.1/~lionfish/scikic/api.cgi';\n",
    "#apiurl = 'http://52.18.184.63/~ubuntu/scikic/api.cgi';\n",
    "apiurl = 'http://production-backend-lb-no-ssl-1389362950.eu-west-1.elb.amazonaws.com/~ubuntu/scikic/api.cgi';"
   ]
  },
  {
   "cell_type": "code",
   "execution_count": 2,
   "metadata": {
    "collapsed": false
   },
   "outputs": [
    {
     "data": {
      "text/plain": [
       "'\\n{\"facts\": {\"guess_loc\": {}, \"where\": {}}, \"question\": {\"detail\": \"{}\", \"dataitem\": \"country\", \"dataset\": \"geoloc\"}}\\n'"
      ]
     },
     "execution_count": 2,
     "metadata": {},
     "output_type": "execute_result"
    }
   ],
   "source": [
    "import requests\n",
    "#We provide data about previous questions etc:\n",
    "#data consists of a dictionary of \n",
    "#'questions_asked': An array of previous questions and answers we've asked, consists of a list of dictionaries.\n",
    "#'facts': If you've run the inference query and stored a copy of the facts dictionary you can pass it back.\n",
    "#this is used by the API to improve its choice of questions\n",
    "#'target': What feature we want to know more about (example: 'age', 'gender', 'location') NOT YET IMPLEMENTED\n",
    "#all of these are optional\n",
    "questions_asked = [{'dataset':'postal','dataitem':'postcode','detail':''},{\"detail\": \"\", \"dataitem\": \"favourite_artist\", \"dataset\": \"music\"}]\n",
    "unprocessed_questions = questions_asked\n",
    "facts = {}\n",
    "data = {'unprocessed_questions':unprocessed_questions,'questions_asked':questions_asked,'facts':facts}\n",
    "#data = {}\n",
    "payload = {\"version\":1, 'data': data, 'apikey': 'YOUR_API_KEY_HERE', 'action':'question'}\n",
    "r = requests.post(apiurl,json=payload)\n",
    "r.content"
   ]
  },
  {
   "cell_type": "markdown",
   "metadata": {},
   "source": [
    "###2. Get a text string of the question *[action: questionstring]*\n",
    "\n",
    "Once you have a tuple, like the one generated above, you may want a human readable string of the question. This method takes the tuple (in data) and returns a dictionary, of:\n",
    "\n",
    "- 'text' - the actual string of the question (e.g. \"Who's your favourite band or artist?\")\n",
    "- 'type' - the type of question (it might just want a text reply, so this would equal 'text' or it might be a choice, and so would say 'select'\n",
    "- 'options' - optional, and is included if the type is 'select'."
   ]
  },
  {
   "cell_type": "code",
   "execution_count": 3,
   "metadata": {
    "collapsed": false
   },
   "outputs": [
    {
     "data": {
      "text/plain": [
       "'\\n{\"type\": \"text\", \"question\": \"What\\'s your postcode?\"}\\n'"
      ]
     },
     "execution_count": 3,
     "metadata": {},
     "output_type": "execute_result"
    }
   ],
   "source": [
    "import requests\n",
    "\n",
    "data = {'dataset':'postal','dataitem':'postcode','detail':''}\n",
    "#data = {\"detail\": \"\", \"dataitem\": \"country\", \"dataset\": \"postal\"}\n",
    "payload = {\"version\":1, 'data': data, 'apikey': 'YOUR_API_KEY_HERE', 'action':'questionstring'}\n",
    "r = requests.post(apiurl,json=payload)\n",
    "r.content"
   ]
  },
  {
   "cell_type": "code",
   "execution_count": 4,
   "metadata": {
    "collapsed": false
   },
   "outputs": [
    {
     "data": {
      "text/plain": [
       "'\\n{\"type\": \"select\", \"question\": \"Is your home in or near Sheffield, UK?\", \"options\": [\"yes\", \"no\", \"don\\'t know\"]}\\n'"
      ]
     },
     "execution_count": 4,
     "metadata": {},
     "output_type": "execute_result"
    }
   ],
   "source": [
    "import json\n",
    "data = {'dataset':'geoloc','dataitem':'nearcity','detail':json.dumps({'city':'Sheffield','country':'UK'})}\n",
    "payload = {\"version\":1, 'data': data, 'apikey': 'YOUR_API_KEY_HERE', 'action':'questionstring'}\n",
    "r = requests.post(apiurl,json=payload)\n",
    "r.content"
   ]
  },
  {
   "cell_type": "markdown",
   "metadata": {},
   "source": [
    "###3. Process Answer *[action: processanswer]* DEPRECATED\n",
    "\n",
    "<b>This is now done through other calls and storing extra information in the facts dictionary.</b>\n",
    "\n",
    "Previously: Sometimes we need to improve or process an answer. For example if someone uses the 'where' class to give the city they are in, we can call 'processanswer' to get more details. To use, pass the question-answer dictionary as 'data' and use action 'processanswer'. The result is a new dictionary: It may be the same as the one you entered, or the class may change its contents. In this example it has looked up the latitude and longitude of sheffield."
   ]
  },
  {
   "cell_type": "code",
   "execution_count": 5,
   "metadata": {
    "collapsed": false
   },
   "outputs": [
    {
     "data": {
      "text/plain": [
       "\"\\nThis action is not available. Please use 'inference','getfacts','question','questionstring' or 'metadata'\\n\""
      ]
     },
     "execution_count": 5,
     "metadata": {},
     "output_type": "execute_result"
    }
   ],
   "source": [
    "import requests\n",
    "data = {'dataset':'where','dataitem':'city','detail':'','answer':'sheffield'}\n",
    "payload = {\"version\":1, 'data': data, 'apikey': 'YOUR_API_KEY_HERE', 'action':'processanswer'}\n",
    "r = requests.post('http://scikic.org/api/api.cgi',json=payload)\n",
    "r.content"
   ]
  },
  {
   "cell_type": "markdown",
   "metadata": {},
   "source": [
    "###4. Inference *[action: inference]*\n",
    "\n",
    "####Parameters\n",
    "\n",
    "The data dictionary should contain three things, similar to the \"action: question\" above,\n",
    "\n",
    "- questions_asked - list of question tuples that we've asked (with their answers)\n",
    "- unprocessed_questions - list of question tuples that we've asked (with their answers), that have not yet been added to the facts dictionary.\n",
    "- facts - the current 'facts' dictionary (possibly provided by earlier calls using action:question)\n",
    "\n",
    "Previously one also entered a 'features' list (features one wants inference about, but now it just returns all features).\n",
    "\n",
    "Returns a dictionary of:\n",
    " - features - is a dictionary of things that have probabilities associated, for example one of its items is 'household' with the following fields:\n",
    " {\"distribution\": [0.029, 0.058, 0.23, 0.034, 0.070, 0.026, 0.055, 0.036, 0.14, 0.024, 0.023, 0.035, 0.24], \"quartiles\": {\"upper\": 11, \"lower\": 2, \"mean\": 6.46}}\n",
    " where the distribution is how likely the person is to be in each of the categories of a household (these categories can be found in the metadata from the module, or elsewhere). The quartiles don't mean much here as this is properly categorical data. This makes more sense in data such as age.\n",
    " - facts - as mentioned previously is a set of truths about the user generated from processing their answers.\n",
    " - insights - This is a list of strings, generated by each module, here is an example:\n",
    " [\"I can\\'t tell which country you\\'re in, just looking at your facebook likes, as I can\\'t see your facebook likes!\", \"You are aged between 20 and 33.\", \"You don\\'t have children living at home\", \" I think you are Christian or of no religion.\"]}\n",
    " \n",
    "Note regarding the distribution above: If some probabilities are zero towards the end of a list then the list will be truncated. For example if inference is certain the user is a male, then the output list will be {\"factor_gender\":[1.0]}. If they are definitely female it will be {\"factor_gender\":[0.0, 1.0]}"
   ]
  },
  {
   "cell_type": "code",
   "execution_count": 6,
   "metadata": {
    "collapsed": false,
    "scrolled": false
   },
   "outputs": [
    {
     "data": {
      "text/plain": [
       "'\\n{\"facts\": {\"guess_loc\": {}, \"where\": {\"ukcensus\": [{\"item\": \"E00172420\", \"probability\": 1.0, \"level\": \"oa\"}], \"city\": [{\"item\": [\"Sheffield\", \"uk\"], \"probability\": 1.0}], \"country\": [{\"item\": \"gb\", \"probability\": 1.0}]}, \"where_history\": {\"error\": \"no_fb_likes\"}}, \"features\": {\"religion\": {\"distribution\": [0.28444444444444444, 0.03333333333333333, 0.029777777777777778, 0.032, 0.058222222222222224, 0.028888888888888888, 0.041777777777777775, 0.4915555555555556], \"quartiles\": {\"upper\": 7, \"lower\": 0, \"mean\": 4.257777777777777}}, \"household\": {\"distribution\": [0.02711111111111111, 0.05555555555555555, 0.22266666666666668, 0.02311111111111111, 0.08755555555555555, 0.032, 0.05733333333333333, 0.04533333333333334, 0.14666666666666667, 0.018222222222222223, 0.022222222222222223, 0.03111111111111111, 0.2311111111111111], \"quartiles\": {\"upper\": 11, \"lower\": 2, \"mean\": 6.41688888888889}}, \"factor_gender\": {\"distribution\": [0.352, 0.648], \"quartiles\": {\"upper\": 1, \"lower\": 0, \"mean\": 0.648}}, \"oa\": {\"distribution\": [1.0], \"quartiles\": {\"upper\": 0, \"lower\": 0, \"mean\": 0.0}}, \"factor_age\": {\"distribution\": [0.016, 0.008888888888888889, 0.0013333333333333333, 0.0, 0.021333333333333333, 0.004, 0.0, 0.0, 0.0, 0.0057777777777777775, 0.0, 0.0044444444444444444, 0.0, 0.0, 0.0026666666666666666, 0.0, 0.0, 0.012444444444444444, 0.025777777777777778, 0.11688888888888889, 0.016, 0.022222222222222223, 0.056, 0.050666666666666665, 0.09333333333333334, 0.05688888888888889, 0.05688888888888889, 0.036, 0.04088888888888889, 0.04133333333333333, 0.010222222222222223, 0.051111111111111114, 0.003111111111111111, 0.032, 0.016, 0.01911111111111111, 0.016, 0.010666666666666666, 0.004, 0.016, 0.007555555555555556, 0.0022222222222222222, 0.006666666666666667, 0.0, 0.008888888888888889, 0.006666666666666667, 0.0017777777777777779, 0.011111111111111112, 0.0035555555555555557, 0.007555555555555556, 0.0, 0.015555555555555555, 0.0035555555555555557, 0.0, 0.0, 0.0, 0.012444444444444444, 0.0, 0.0, 0.0057777777777777775, 0.005333333333333333, 0.0, 0.005333333333333333, 0.004, 0.0, 0.0044444444444444444, 0.0, 0.0, 0.0, 0.0017777777777777779, 0.0, 0.005333333333333333, 0.0, 0.0, 0.0, 0.0, 0.0, 0.0, 0.0, 0.0, 0.0, 0.0, 0.0, 0.012444444444444444], \"quartiles\": {\"upper\": 31, \"lower\": 21, \"mean\": 28.049777777777773}}}, \"insights\": [\"I can\\'t tell which country you\\'re in, just looking at your facebook likes, as I can\\'t see your facebook likes!\", \"You are aged between 21 and 31.\", \" I think you are Christian or of no religion.\"]}\\n'"
      ]
     },
     "execution_count": 6,
     "metadata": {},
     "output_type": "execute_result"
    }
   ],
   "source": [
    "import requests\n",
    "questions_asked = [{'dataset':'postal','dataitem':'postcode','detail':'','answer':'s63af'}]\n",
    "unprocessed_questions = [{'dataset':'postal','dataitem':'postcode','detail':'','answer':'s63af'}]\n",
    "facts = {}\n",
    "        \n",
    "data = {'questions_asked':questions_asked,'unprocessed_questions':unprocessed_questions,'facts':facts}\n",
    "payload = {\"version\":1, 'data': data, 'apikey': 'YOUR_API_KEY_HERE', 'action':'inference'}\n",
    "r = requests.post('http://scikic.org/api/api.cgi',json=payload)\n",
    "r.content"
   ]
  },
  {
   "cell_type": "code",
   "execution_count": 7,
   "metadata": {
    "collapsed": false
   },
   "outputs": [
    {
     "data": {
      "text/plain": [
       "'\\n{\"facts\": {\"guess_loc\": {}, \"where\": {\"uscensus\": [{\"item\": [\"04\", \"015\", \"950100\", \"1\"], \"probability\": 0.514, \"level\": \"blockgroup\"}, {\"item\": [\"04\", \"015\", \"950100\", \"3\"], \"probability\": 0.486, \"level\": \"blockgroup\"}], \"city\": [{\"item\": [\"Colorado City, AZ\", \"us\"], \"probability\": 1.0}], \"country\": [{\"item\": \"us\", \"probability\": 1.0}]}, \"where_history\": {\"error\": \"no_fb_likes\"}}, \"features\": {\"bg\": {\"distribution\": [0.35333333333333333, 0.6466666666666666], \"quartiles\": {\"upper\": 1, \"lower\": 0, \"mean\": 0.6466666666666666}}, \"factor_gender\": {\"distribution\": [0.3168888888888889, 0.6831111111111111], \"quartiles\": {\"upper\": 1, \"lower\": 0, \"mean\": 0.6831111111111111}}, \"factor_age\": {\"distribution\": [0.02266666666666667, 0.03288888888888889, 0.025777777777777778, 0.024444444444444446, 0.03111111111111111, 0.042666666666666665, 0.036444444444444446, 0.036444444444444446, 0.03911111111111111, 0.035111111111111114, 0.029333333333333333, 0.029333333333333333, 0.032, 0.03288888888888889, 0.03822222222222222, 0.02266666666666667, 0.021333333333333333, 0.020888888888888887, 0.03244444444444444, 0.022222222222222223, 0.013333333333333334, 0.014666666666666666, 0.009777777777777778, 0.006666666666666667, 0.008888888888888889, 0.007555555555555556, 0.0071111111111111115, 0.008888888888888889, 0.006666666666666667, 0.007555555555555556, 0.008, 0.006222222222222222, 0.008888888888888889, 0.006666666666666667, 0.007555555555555556, 0.009777777777777778, 0.011111111111111112, 0.015111111111111112, 0.012444444444444444, 0.008, 0.008888888888888889, 0.008888888888888889, 0.015111111111111112, 0.010666666666666666, 0.009777777777777778, 0.004888888888888889, 0.0026666666666666666, 0.005333333333333333, 0.003111111111111111, 0.003111111111111111, 0.006666666666666667, 0.008, 0.0071111111111111115, 0.004888888888888889, 0.006222222222222222, 0.005333333333333333, 0.0022222222222222222, 0.0026666666666666666, 0.0013333333333333333, 0.0057777777777777775, 0.005333333333333333, 0.004888888888888889, 0.0022222222222222222, 0.0008888888888888889, 0.0026666666666666666, 0.0035555555555555557, 0.0057777777777777775, 0.0022222222222222222, 0.0035555555555555557, 0.003111111111111111, 0.004888888888888889, 0.006666666666666667, 0.003111111111111111, 0.005333333333333333, 0.008444444444444444, 0.0044444444444444444, 0.0022222222222222222, 0.0035555555555555557, 0.0022222222222222222, 0.0013333333333333333, 0.0008888888888888889, 0.00044444444444444447, 0.0008888888888888889, 0.00044444444444444447, 0.00044444444444444447, 0.0008888888888888889, 0.0, 0.0, 0.00044444444444444447, 0.0008888888888888889, 0.0, 0.00044444444444444447, 0.0, 0.0, 0.0008888888888888889, 0.00044444444444444447, 0.00044444444444444447, 0.0, 0.0, 0.00044444444444444447], \"quartiles\": {\"upper\": 36, \"lower\": 7, \"mean\": 22.90266666666667}}}, \"insights\": [\"I can\\'t tell which country you\\'re in, just looking at your facebook likes, as I can\\'t see your facebook likes!\", \"You are aged between 7 and 36.\"]}\\n'"
      ]
     },
     "execution_count": 7,
     "metadata": {},
     "output_type": "execute_result"
    }
   ],
   "source": [
    "import requests\n",
    "questions_asked = [{'dataset':'postal','dataitem':'zipcode','detail':'','answer':'86021'}]\n",
    "unprocessed_questions = [{'dataset':'postal','dataitem':'zipcode','detail':'','answer':'86021'}]\n",
    "facts = {}\n",
    "        \n",
    "data = {'questions_asked':questions_asked,'unprocessed_questions':unprocessed_questions,'facts':facts}\n",
    "\n",
    "payload = {\"version\":1, 'data': data, 'apikey': 'YOUR_API_KEY_HERE', 'action':'inference'}\n",
    "r = requests.post('http://scikic.org/api/api.cgi',json=payload)\n",
    "r.content"
   ]
  },
  {
   "cell_type": "markdown",
   "metadata": {},
   "source": [
    "###5. Metadata *[action: metadata]*\n",
    "\n",
    "Some of the classes provide metadata about the results. Use the 'metadata' action to retrieve these. Pass a dictionary in 'data' with the name of the dataset, or leave empty to get all the metadata of all the classes.\n",
    "\n",
    "In this example we display the citation information for the 'babynames' dataset."
   ]
  },
  {
   "cell_type": "code",
   "execution_count": 8,
   "metadata": {
    "collapsed": false
   },
   "outputs": [
    {
     "name": "stdout",
     "output_type": "stream",
     "text": [
      "The ONS provide statistics on the distribution of the names of baby's in the UK: <a href=\"http://www.ons.gov.uk/ons/about-ons/business-transparency/freedom-of-information/what-can-i-request/published-ad-hoc-data/pop/august-2014/baby-names-1996-2013.xls\">1996-2013</a> and <a href=\"http://www.ons.gov.uk/ons/rel/vsob1/baby-names--england-and-wales/1904-1994/top-100-baby-names-historical-data.xls\">1904-1994</a>.\n"
     ]
    }
   ],
   "source": [
    "import requests\n",
    "import json\n",
    "data = {'dataset':'babynames'}\n",
    "payload = {\"version\":1, 'data': data, 'apikey': 'YOUR_API_KEY_HERE', 'action':'metadata'}\n",
    "r = requests.post('http://scikic.org/api/api.cgi',json=payload)\n",
    "for item in json.loads(r.content):\n",
    "    if 'citation' in item:\n",
    "        print(item['citation'])"
   ]
  },
  {
   "cell_type": "markdown",
   "metadata": {},
   "source": [
    "In this example we get all citations:"
   ]
  },
  {
   "cell_type": "code",
   "execution_count": 9,
   "metadata": {
    "collapsed": false
   },
   "outputs": [
    {
     "name": "stdout",
     "output_type": "stream",
     "text": [
      "The <a href=\"facebook.com\">facebook</a> graph API\n",
      "The <a href=\"http://www.census.gov/developers/\">US census bureau</a>\n",
      "The <a href=\"http://files.grouplens.org/datasets/movielens\">movielens</a> database\n",
      "The ONS provide statistics on the distribution of the names of baby's in the UK: <a href=\"http://www.ons.gov.uk/ons/about-ons/business-transparency/freedom-of-information/what-can-i-request/published-ad-hoc-data/pop/august-2014/baby-names-1996-2013.xls\">1996-2013</a> and <a href=\"http://www.ons.gov.uk/ons/rel/vsob1/baby-names--england-and-wales/1904-1994/top-100-baby-names-historical-data.xls\">1904-1994</a>.\n",
      "The <a href=\"https://geoportal.statistics.gov.uk\">UK office of national statistics</a> (see <a href=\"http://www.ons.gov.uk/ons/guide-method/geography/products/census/lookup/other/index.html\">details</a> and <a href=\"https://geoportal.statistics.gov.uk/geoportal/catalog/search/resource/details.page?uuid={A33B0569-97E2-4F44-836C-B656A6D082B6} \">information</a>) and the US zipcode data was from <a href=\"http://mcdc.missouri.edu\">Missouri's Census Data Center.\n",
      "The <a href=\"bandsintown.com\">bandsintown.com</a> API\n",
      "The <a href=\"http://www.ons.gov.uk/ons/guide-method/census/2011/census-data/ons-data-explorer--beta-/index.html\">UK office of national statistics</a>\n",
      "The <a href=\"freegeoip.net\">freegeoip.net</a> API\n"
     ]
    }
   ],
   "source": [
    "import requests\n",
    "import json\n",
    "data = {}#no dataset specified (makes it output all metadata)\n",
    "payload = {\"version\":1, 'data': data, 'apikey': 'YOUR_API_KEY_HERE', 'action':'metadata'}\n",
    "r = requests.post('http://scikic.org/api/api.cgi',json=payload)\n",
    "for item in json.loads(r.content):\n",
    "    if 'citation' in item:\n",
    "        print(item['citation'])"
   ]
  },
  {
   "cell_type": "markdown",
   "metadata": {},
   "source": [
    "###Typical API usage\n",
    "\n",
    "The scikic front end may use the API in the following way."
   ]
  },
  {
   "cell_type": "code",
   "execution_count": 10,
   "metadata": {
    "collapsed": false
   },
   "outputs": [
    {
     "name": "stdout",
     "output_type": "stream",
     "text": [
      "{u'facts': {}, u'question': {u'dataset': u'music', u'detail': u'', u'dataitem': u'favourite_artist'}}\n",
      "What's your favourite band or artist? (be honest!)Eels\n",
      "{u'facts': {}, u'question': {u'dataset': u'movielens', u'detail': 1704, u'dataitem': u'seen'}}\n"
     ]
    },
    {
     "ename": "KeyboardInterrupt",
     "evalue": "",
     "output_type": "error",
     "traceback": [
      "\u001b[1;31m---------------------------------------------------------------------------\u001b[0m",
      "\u001b[1;31mKeyboardInterrupt\u001b[0m                         Traceback (most recent call last)",
      "\u001b[1;32m<ipython-input-10-696bc5f467df>\u001b[0m in \u001b[0;36m<module>\u001b[1;34m()\u001b[0m\n\u001b[0;32m     19\u001b[0m     \u001b[0mquestion_string_result\u001b[0m \u001b[1;33m=\u001b[0m \u001b[0mjson\u001b[0m\u001b[1;33m.\u001b[0m\u001b[0mloads\u001b[0m\u001b[1;33m(\u001b[0m\u001b[0mr\u001b[0m\u001b[1;33m.\u001b[0m\u001b[0mcontent\u001b[0m\u001b[1;33m)\u001b[0m\u001b[1;33m\u001b[0m\u001b[0m\n\u001b[0;32m     20\u001b[0m \u001b[1;33m\u001b[0m\u001b[0m\n\u001b[1;32m---> 21\u001b[1;33m     \u001b[0muserinput\u001b[0m \u001b[1;33m=\u001b[0m \u001b[0mraw_input\u001b[0m\u001b[1;33m(\u001b[0m\u001b[0mquestion_string_result\u001b[0m\u001b[1;33m[\u001b[0m\u001b[1;34m'question'\u001b[0m\u001b[1;33m]\u001b[0m\u001b[1;33m)\u001b[0m\u001b[1;33m\u001b[0m\u001b[0m\n\u001b[0m\u001b[0;32m     22\u001b[0m \u001b[1;33m\u001b[0m\u001b[0m\n\u001b[0;32m     23\u001b[0m     \u001b[0mquestion\u001b[0m \u001b[1;33m=\u001b[0m \u001b[0mquestion_query_result\u001b[0m\u001b[1;33m[\u001b[0m\u001b[1;34m'question'\u001b[0m\u001b[1;33m]\u001b[0m\u001b[1;33m\u001b[0m\u001b[0m\n",
      "\u001b[1;32m/home/lionfish/anaconda/lib/python2.7/site-packages/IPython/kernel/zmq/kernelbase.pyc\u001b[0m in \u001b[0;36mraw_input\u001b[1;34m(self, prompt)\u001b[0m\n\u001b[0;32m    649\u001b[0m             \u001b[0mself\u001b[0m\u001b[1;33m.\u001b[0m\u001b[0m_parent_ident\u001b[0m\u001b[1;33m,\u001b[0m\u001b[1;33m\u001b[0m\u001b[0m\n\u001b[0;32m    650\u001b[0m             \u001b[0mself\u001b[0m\u001b[1;33m.\u001b[0m\u001b[0m_parent_header\u001b[0m\u001b[1;33m,\u001b[0m\u001b[1;33m\u001b[0m\u001b[0m\n\u001b[1;32m--> 651\u001b[1;33m             \u001b[0mpassword\u001b[0m\u001b[1;33m=\u001b[0m\u001b[0mFalse\u001b[0m\u001b[1;33m,\u001b[0m\u001b[1;33m\u001b[0m\u001b[0m\n\u001b[0m\u001b[0;32m    652\u001b[0m         )\n\u001b[0;32m    653\u001b[0m \u001b[1;33m\u001b[0m\u001b[0m\n",
      "\u001b[1;32m/home/lionfish/anaconda/lib/python2.7/site-packages/IPython/kernel/zmq/kernelbase.pyc\u001b[0m in \u001b[0;36m_input_request\u001b[1;34m(self, prompt, ident, parent, password)\u001b[0m\n\u001b[0;32m    679\u001b[0m             \u001b[1;32mexcept\u001b[0m \u001b[0mKeyboardInterrupt\u001b[0m\u001b[1;33m:\u001b[0m\u001b[1;33m\u001b[0m\u001b[0m\n\u001b[0;32m    680\u001b[0m                 \u001b[1;31m# re-raise KeyboardInterrupt, to truncate traceback\u001b[0m\u001b[1;33m\u001b[0m\u001b[1;33m\u001b[0m\u001b[0m\n\u001b[1;32m--> 681\u001b[1;33m                 \u001b[1;32mraise\u001b[0m \u001b[0mKeyboardInterrupt\u001b[0m\u001b[1;33m\u001b[0m\u001b[0m\n\u001b[0m\u001b[0;32m    682\u001b[0m             \u001b[1;32melse\u001b[0m\u001b[1;33m:\u001b[0m\u001b[1;33m\u001b[0m\u001b[0m\n\u001b[0;32m    683\u001b[0m                 \u001b[1;32mbreak\u001b[0m\u001b[1;33m\u001b[0m\u001b[0m\n",
      "\u001b[1;31mKeyboardInterrupt\u001b[0m: "
     ]
    }
   ],
   "source": [
    "import requests\n",
    "\n",
    "apiurl = 'http://scikic.org/api/api.cgi';\n",
    "questions_asked = []\n",
    "unprocessed_questions = []\n",
    "facts = {}\n",
    "for loop in range(3):\n",
    "    data = {'unprocessed_questions':unprocessed_questions,'questions_asked':questions_asked,'facts':facts}\n",
    "    payload = {\"version\":1, 'data': data, 'apikey': 'YOUR_API_KEY_HERE', 'action':'question'}\n",
    "    r = requests.post(apiurl,json=payload)\n",
    "    question_query_result = json.loads(r.content)\n",
    "    facts = question_query_result['facts']\n",
    "\n",
    "    print question_query_result \n",
    "    data = question_query_result['question']\n",
    "    payload = {\"version\":1, 'data': data, 'apikey': 'YOUR_API_KEY_HERE', 'action':'questionstring'}\n",
    "    r = requests.post(apiurl,json=payload)\n",
    "\n",
    "    question_string_result = json.loads(r.content)\n",
    "\n",
    "    userinput = raw_input(question_string_result['question'])\n",
    "\n",
    "    question = question_query_result['question']\n",
    "    question['answer'] = userinput\n",
    "\n",
    "    questions_asked.append(question)\n",
    "    unprocessed_questions.append(question)\n",
    "    facts = question_query_result['facts']\n",
    "\n",
    "    \n",
    "data = {'questions_asked':questions_asked,'unprocessed_questions':unprocessed_questions,'facts':facts}\n",
    "\n",
    "payload = {\"version\":1, 'data': data, 'apikey': 'YOUR_API_KEY_HERE', 'action':'inference'}\n",
    "r = requests.post('http://scikic.org/api/api.cgi',json=payload)\n",
    "inference_results = json.loads(r.content)\n",
    "\n",
    "print \"\\nInsights\\n\"\n",
    "for insight in inference_results['insights']:\n",
    "    print insight"
   ]
  }
 ],
 "metadata": {
  "kernelspec": {
   "display_name": "Python 2",
   "language": "python",
   "name": "python2"
  },
  "language_info": {
   "codemirror_mode": {
    "name": "ipython",
    "version": 2
   },
   "file_extension": ".py",
   "mimetype": "text/x-python",
   "name": "python",
   "nbconvert_exporter": "python",
   "pygments_lexer": "ipython2",
   "version": "2.7.10"
  }
 },
 "nbformat": 4,
 "nbformat_minor": 0
}
