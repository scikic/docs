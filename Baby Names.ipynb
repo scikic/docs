{
 "metadata": {
  "name": ""
 },
 "nbformat": 3,
 "nbformat_minor": 0,
 "worksheets": [
  {
   "cells": [
    {
     "cell_type": "markdown",
     "metadata": {},
     "source": [
      "##Baby Names\n",
      "\n",
      "I downloaded the ONS' babyname data, from two links at the bottom of:\n",
      "http://www.ons.gov.uk/ons/rel/vsob1/baby-names--england-and-wales/2013/sty-baby-names.html\n",
      "In particular, from:\n",
      "http://www.ons.gov.uk/ons/about-ons/business-transparency/freedom-of-information/what-can-i-request/published-ad-hoc-data/pop/august-2014/baby-names-1996-2013.xls\n",
      "and\n",
      "http://www.ons.gov.uk/ons/rel/vsob1/baby-names--england-and-wales/1904-1994/top-100-baby-names-historical-data.xls\n",
      "\n",
      "First the historic data (I'm historic?)\n",
      "Loading into pandas (note that I had to delete row 5 to get it to read ok).\n",
      "\n",
      "This data only gives us ranks. The more detailed, recent, baby names, gives us a clue about the distribution of the ranks (see below)"
     ]
    },
    {
     "cell_type": "code",
     "collapsed": false,
     "input": [
      "import urllib2\n",
      "url = 'http://www.ons.gov.uk/ons/rel/vsob1/baby-names--england-and-wales/1904-1994/top-100-baby-names-historical-data.xls'\n",
      "socket = urllib2.urlopen(url)\n",
      "\n",
      "import pandas as pd\n",
      "xd = pd.ExcelFile(socket)\n",
      "temp = xd.parse(sheetname='Boys',header=0,skiprows=[0,1,2,4],skip_footer=2,index_col=0)"
     ],
     "language": "python",
     "metadata": {},
     "outputs": [],
     "prompt_number": 18
    },
    {
     "cell_type": "code",
     "collapsed": false,
     "input": [
      "import urllib2\n",
      "url = 'http://www.ons.gov.uk/ons/about-ons/business-transparency/freedom-of-information/what-can-i-request/published-ad-hoc-data/pop/august-2014/baby-names-1996-2013.xls'\n",
      "socket = urllib2.urlopen(url)\n",
      "\n",
      "import pandas as pd\n",
      "xd = pd.ExcelFile(socket)\n",
      "df = xd.parse(sheetname='Boys',skiprows=5, index_col=0,skip_footer=3,na_values=':')\n",
      "\n",
      "\n",
      "year = 2013\n",
      "rankCol = True\n",
      "cols = []\n",
      "for i,c in enumerate(df.columns):\n",
      "    if (rankCol):\n",
      "        cols.append(\"%dRank\" % year)\n",
      "    else:\n",
      "        cols.append(\"%dCount\" % year)\n",
      "        year-=1\n",
      "    rankCol = not rankCol\n",
      "df.columns = cols"
     ],
     "language": "python",
     "metadata": {},
     "outputs": [],
     "prompt_number": 26
    },
    {
     "cell_type": "code",
     "collapsed": false,
     "input": [
      "import pandas as pd\n",
      "fn = '/home/lionfish/Documents/Research/citizenme/babynames/historicname_tcm77-254032.xls';\n",
      "#NOTE DELETED ROW 5 TO MAKE THIS WORK\n",
      "ranks = {}\n",
      "ranks['boys'] = pd.read_excel(fn,sheetname='Boys',header=3,skiprows=3,index_col=0)\n",
      "ranks['girls'] = pd.read_excel(fn,sheetname='Girls',header=3,skiprows=3,index_col=0)"
     ],
     "language": "python",
     "metadata": {},
     "outputs": [],
     "prompt_number": 1
    },
    {
     "cell_type": "markdown",
     "metadata": {},
     "source": [
      "This code opens the more recent data,\n",
      "\n",
      "Notice that the "
     ]
    },
    {
     "cell_type": "code",
     "collapsed": false,
     "input": [
      "import pandas as pd\n",
      "import matplotlib.pyplot as plt\n",
      "%matplotlib inline\n",
      "import numpy as np\n",
      "fn = '/home/lionfish/Documents/Research/citizenme/babynames/babynamesallyears_tcm77-374773.xls';\n",
      "#Made a new row after row 6, with =CONCATENATE(A5,B5,B6).\n",
      "sheet = {}\n",
      "sheet['boys'] = pd.read_excel(fn,sheetname='Boys',skiprows=6, index_col=0,skip_footer=3,na_values=':') #,header=3,skiprows=3,index_col=0)\n",
      "sheet['girls'] = pd.read_excel(fn,sheetname='Girls',skiprows=6, index_col=0,skip_footer=3,na_values=':') #,header=3,skiprows=3,index_col=0)\n",
      "\n",
      "plotdata = np.zeros((2013-1996+1,2))\n",
      "for year in range(2013,1996,-1):\n",
      "    q=sheet['boys'].sort('%dRank' % year)\n",
      "    s = np.nansum(q['%dCount' % year][0:10])\n",
      "    S = np.nansum(q['%dCount' % year][:])\n",
      "    plotdata[year-1996,0] = year;\n",
      "    plotdata[year-1996,1] = 1.*s/S"
     ],
     "language": "python",
     "metadata": {},
     "outputs": [],
     "prompt_number": 18
    },
    {
     "cell_type": "code",
     "collapsed": false,
     "input": [
      "top = {}\n",
      "q = {}\n",
      "for sid in sheet:\n",
      "    s = sheet[sid]\n",
      "    q[sid]=s.sort('1996Rank')\n",
      "    top[sid] = q[sid]['1996Count'][0:100]"
     ],
     "language": "python",
     "metadata": {},
     "outputs": [],
     "prompt_number": 3
    },
    {
     "cell_type": "markdown",
     "metadata": {},
     "source": [
      "###Names are become more diverse\n",
      "\n",
      "The proportion of the total baby boys born with a name in the top 10 has fallen dramatically year-on-year."
     ]
    },
    {
     "cell_type": "code",
     "collapsed": false,
     "input": [
      "plt.plot(plotdata[:,0],plotdata[:,1]*100.,'x')\n",
      "plt.xlim([1992,2015])\n",
      "plt.ylim([10,30])\n",
      "plt.title('Proprtion of names in top ten')\n",
      "plt.xlabel('Year')\n",
      "plt.ylabel('Percentage of names in top ten')"
     ],
     "language": "python",
     "metadata": {},
     "outputs": [
      {
       "metadata": {},
       "output_type": "pyout",
       "prompt_number": 4,
       "text": [
        "<matplotlib.text.Text at 0x7f64de654a10>"
       ]
      },
      {
       "metadata": {},
       "output_type": "display_data",
       "png": "[encoded data removed]",
       "text": [
        "<matplotlib.figure.Figure at 0x7f64e3c55a90>"
       ]
      }
     ],
     "prompt_number": 4
    },
    {
     "cell_type": "code",
     "collapsed": false,
     "input": [],
     "language": "python",
     "metadata": {},
     "outputs": [],
     "prompt_number": 4
    },
    {
     "cell_type": "markdown",
     "metadata": {},
     "source": [
      "I don't have data from before 1996. This trend can't continue indefinitely. So I'll assume that the distribution of rank values is the same for the years prior to 1996 as 1996.\n",
      "\n",
      "Given a name, we want:\n",
      "\n",
      "$p(year|name) = p(name|year) \\; p(year)\\; / \\;p(name)$\n",
      "\n",
      "Need to correct for:\n",
      "\n",
      " - Birthrate changes\n",
      " - Immigration/emigration\n",
      " - Death\n",
      "\n",
      "So looking at the $p(year)$ term for the moment. What is the chances of a person, who is alive now, being born in year X.\n",
      "\n",
      "$p(born=X|alive) = p(alive|born=X) p(born=X) / p(alive)$\n",
      "\n",
      "We need life-tables (actuarial tables)\n",
      "\n",
      "http://www.ons.gov.uk/ons/publications/re-reference-tables.html?edition=tcm%3A77-365199\n",
      "\n",
      "these are only for NOW, we want to know how many people born in year X survived until Y.\n",
      "\n",
      "To solve this we can look at:\n",
      "\n",
      "today's population, number of males of age Z alive today - number of males born in year (Z)\n",
      "(census) - (?)\n",
      "Doesn't handle immigration!\n",
      "\n",
      "Get birthrate from: http://www.ons.gov.uk/ons/rel/vsob1/vital-statistics--population-and-health-reference-tables/summer-2012-update/annual-reference-table.xls"
     ]
    },
    {
     "cell_type": "code",
     "collapsed": false,
     "input": [
      "birthrate = [723165,706248,708711,690013,669601,645835,639721,621469,596122,594634,604441,621872,635901,643095,649485,648138,664726,673467,689656,699217,706140,687725,693577,681511,661018,656417,636818,629134,625931,634492,656234,638028,596418,569259,584270,603445,639885,675953,725440,783155,784486,797538,819272,832164,849823,862725,875972,854055,838736,811281,785005,748501,740715,723381,700335,667811,673651,684372,673735,677529,697097,730518,775306,881026,820719,679937,751478,684334,651503,579091,590120,614479,621204,610557,605292,598756,597642,580413,613972,632081,648811,643673,660267,654172,694563,710582,729933,758131,780124,848814,957782,692438,662661,668346,785520,814614,879096,881890,872737,881138,896962,914472,940383,918042,935081,929293,945389,948271,940509,929807,927062,928646,923165,921683,915331,922291,890289,914572,897957,914157,869937,885944,879868,886331,903760,894270,906750,890722,889014,883642,881643,880389,891906,888200,887968,850607,854956,829778,825907,797428,792787,773381,786858,768349,753870,748069,740275,727417,712684,696406,684048,689881,655481,663071,657453,635043,634405,612391,624012,615865,593422,]\n",
      "year = range(2010,1849,-1)\n",
      "brates = {};\n",
      "for y,br in zip(year,birthrate):\n",
      "    brates[y] = br"
     ],
     "language": "python",
     "metadata": {},
     "outputs": [],
     "prompt_number": 5
    },
    {
     "cell_type": "markdown",
     "metadata": {},
     "source": [
      "Get how many people from each year who have survived from normal ONS API:"
     ]
    },
    {
     "cell_type": "code",
     "collapsed": false,
     "input": [
      "import sys\n",
      "sys.path.append(r'psychic')\n",
      "from temp_census import CensusAnswer\n",
      "temp = [0]\n",
      "CensusAnswer.getAgeDist('K04000001',temp) #alive today at each age\n",
      "years = range(2011,2011-len(temp[0])+1,-1) #!CENSUS WAS IN 2011\n",
      "alive = {}\n",
      "for y,al in zip(years,temp[0]):\n",
      "    alive[y] = al\n",
      "\n",
      "rates = []\n",
      "ys = []\n",
      "pops = []\n",
      "i =0 \n",
      "for y in years:\n",
      "    if y in brates:\n",
      "        rates.append(brates[y])\n",
      "    else:\n",
      "        rates.append(None)\n",
      "    \n",
      "    if y in alive:\n",
      "        pops.append(alive[y])\n",
      "    else:\n",
      "        pops.append(None)\n",
      "        \n",
      "    ys.append(y)"
     ],
     "language": "python",
     "metadata": {},
     "outputs": [
      {
       "output_type": "stream",
       "stream": "stdout",
       "text": [
        "Couldn't import dot_parser, loading of dot files will not be possible.\n"
       ]
      }
     ],
     "prompt_number": 6
    },
    {
     "cell_type": "markdown",
     "metadata": {},
     "source": [
      "Just realised that I don't really care how many people were born in a particular year, as we're only interested in the number of people from that year. Anyway, because it's interesting, here's a graph of how many people were born each year, and their survival."
     ]
    },
    {
     "cell_type": "code",
     "collapsed": false,
     "input": [
      "plt.plot(ys,rates,label=\"Births\")\n",
      "plt.plot(ys,pops,label=\"Alive Now\")\n",
      "plt.legend()\n",
      "plt.title('Survival and births')\n",
      "plt.xlabel('Year')\n",
      "plt.ylabel('Population')\n",
      "plt.vlines(1947,0,1e6)"
     ],
     "language": "python",
     "metadata": {},
     "outputs": [
      {
       "metadata": {},
       "output_type": "pyout",
       "prompt_number": 7,
       "text": [
        "<matplotlib.collections.LineCollection at 0x7f64de752990>"
       ]
      },
      {
       "metadata": {},
       "output_type": "display_data",
       "png": "[encoded data removed]",
       "text": [
        "<matplotlib.figure.Figure at 0x7f64deee7e10>"
       ]
      }
     ],
     "prompt_number": 7
    },
    {
     "cell_type": "markdown",
     "metadata": {},
     "source": [
      "I assume the fact that more people are alive than were born since 1970 is due to immigration.\n",
      "\n",
      "The spike in 1947 is the baby-boom (marked with vertical line).\n",
      "\n",
      "I only need the number of people alive, rather than the birthrate."
     ]
    },
    {
     "cell_type": "markdown",
     "metadata": {},
     "source": [
      "We have a name, e.g. John, and we want to find $p(born=1944|name=John)$\n",
      "\n",
      "$p(born=1944|name=John) = p(name=John|born=1944) p(born=1944) / p(name=John)$\n",
      "\n",
      "$p(born=1944)$ is from the ONS (alive[1944:1953])"
     ]
    },
    {
     "cell_type": "code",
     "collapsed": false,
     "input": [
      "top['boys'][0]"
     ],
     "language": "python",
     "metadata": {},
     "outputs": [
      {
       "metadata": {},
       "output_type": "pyout",
       "prompt_number": 11,
       "text": [
        "10779.0"
       ]
      }
     ],
     "prompt_number": 11
    },
    {
     "cell_type": "markdown",
     "metadata": {},
     "source": [
      "$p(name=John|born=1944)$"
     ]
    },
    {
     "cell_type": "code",
     "collapsed": false,
     "input": [
      "\n",
      "name = 'JOHN'\n",
      "totpop = sum([alive[y] for y in alive]) #total population of England+Wales\n",
      "years = range(1914,2004,10)\n",
      "ps = np.zeros(len(years))\n",
      "for yeari,year in enumerate(years):\n",
      "    rks = [None,None]\n",
      "    p = 0\n",
      "    for i,rid in enumerate(ranks):\n",
      "        r = ranks[rid]\n",
      "        idxes = r[r[year]==name]\n",
      "        if not idxes.empty:\n",
      "            rks[i] = r[r[year]==name].index[0]\n",
      "            p = p + 1.*top[rid][rks[i]]/totpop\n",
      "    p = p * 1.*sum([alive[i] for i in range(year,year+10)])/totpop\n",
      "    ps[yeari] = p+0.000000001\n",
      "ps = ps / sum(ps)   \n",
      "#skip normalisation by p(name)\n",
      "    #live[year]\n"
     ],
     "language": "python",
     "metadata": {},
     "outputs": [
      {
       "ename": "NameError",
       "evalue": "name 'alive' is not defined",
       "output_type": "pyerr",
       "traceback": [
        "\u001b[0;31m---------------------------------------------------------------------------\u001b[0m\n\u001b[0;31mNameError\u001b[0m                                 Traceback (most recent call last)",
        "\u001b[0;32m<ipython-input-1-a1f52996b4cb>\u001b[0m in \u001b[0;36m<module>\u001b[0;34m()\u001b[0m\n\u001b[1;32m      1\u001b[0m \u001b[0;34m\u001b[0m\u001b[0m\n\u001b[1;32m      2\u001b[0m \u001b[0mname\u001b[0m \u001b[0;34m=\u001b[0m \u001b[0;34m'JOHN'\u001b[0m\u001b[0;34m\u001b[0m\u001b[0m\n\u001b[0;32m----> 3\u001b[0;31m \u001b[0mtotpop\u001b[0m \u001b[0;34m=\u001b[0m \u001b[0msum\u001b[0m\u001b[0;34m(\u001b[0m\u001b[0;34m[\u001b[0m\u001b[0malive\u001b[0m\u001b[0;34m[\u001b[0m\u001b[0my\u001b[0m\u001b[0;34m]\u001b[0m \u001b[0;32mfor\u001b[0m \u001b[0my\u001b[0m \u001b[0;32min\u001b[0m \u001b[0malive\u001b[0m\u001b[0;34m]\u001b[0m\u001b[0;34m)\u001b[0m \u001b[0;31m#total population of England+Wales\u001b[0m\u001b[0;34m\u001b[0m\u001b[0m\n\u001b[0m\u001b[1;32m      4\u001b[0m \u001b[0myears\u001b[0m \u001b[0;34m=\u001b[0m \u001b[0mrange\u001b[0m\u001b[0;34m(\u001b[0m\u001b[0;36m1914\u001b[0m\u001b[0;34m,\u001b[0m\u001b[0;36m2004\u001b[0m\u001b[0;34m,\u001b[0m\u001b[0;36m10\u001b[0m\u001b[0;34m)\u001b[0m\u001b[0;34m\u001b[0m\u001b[0m\n\u001b[1;32m      5\u001b[0m \u001b[0mps\u001b[0m \u001b[0;34m=\u001b[0m \u001b[0mnp\u001b[0m\u001b[0;34m.\u001b[0m\u001b[0mzeros\u001b[0m\u001b[0;34m(\u001b[0m\u001b[0mlen\u001b[0m\u001b[0;34m(\u001b[0m\u001b[0myears\u001b[0m\u001b[0;34m)\u001b[0m\u001b[0;34m)\u001b[0m\u001b[0;34m\u001b[0m\u001b[0m\n",
        "\u001b[0;31mNameError\u001b[0m: name 'alive' is not defined"
       ]
      }
     ],
     "prompt_number": 1
    },
    {
     "cell_type": "markdown",
     "metadata": {},
     "source": [
      "#Final version"
     ]
    },
    {
     "cell_type": "code",
     "collapsed": false,
     "input": [
      "import sys\n",
      "import numpy as np\n",
      "import pandas as pd\n",
      "import urllib2\n",
      "\n",
      "pathToData = './'\n",
      "\n",
      "#There are three sets of data that are used\n",
      "#- historic ranks of the top 100 names for each decade\n",
      "#- recent counts of names for each year (since 1996)\n",
      "\n",
      "#1. download historic data and put into a pandas dataframe\n",
      "url = 'http://www.ons.gov.uk/ons/rel/vsob1/baby-names--england-and-wales/1904-1994/top-100-baby-names-historical-data.xls'\n",
      "socket = urllib2.urlopen(url)\n",
      "xd = pd.ExcelFile(socket)\n",
      "ranks = {}\n",
      "ranks['boys'] = xd.parse(sheetname='Boys',header=0,skiprows=[0,1,2,4],skip_footer=2,index_col=0)\n",
      "ranks['girls'] = xd.parse(sheetname='Girls',header=0,skiprows=[0,1,2,4],skip_footer=2,index_col=0)\n",
      "\n",
      "#2. download recent data and put into pandas DF (requires construction of new headers)\n",
      "import urllib2\n",
      "url = 'http://www.ons.gov.uk/ons/about-ons/business-transparency/freedom-of-information/what-can-i-request/published-ad-hoc-data/pop/august-2014/baby-names-1996-2013.xls'\n",
      "socket = urllib2.urlopen(url)\n",
      "\n",
      "xd = pd.ExcelFile(socket)\n",
      "sheet = {}\n",
      "sheet['boys'] = xd.parse(sheetname='Boys',skiprows=4, index_col=0,skip_footer=3,na_values=':')\n",
      "sheet['girls'] = xd.parse(sheetname='Girls',skiprows=4, index_col=0,skip_footer=3,na_values=':')\n",
      "\n",
      "for gender in ['boys','girls']:\n",
      "    sheet[gender] = sheet[gender].ix[1:]\n",
      "    df = sheet[gender]\n",
      "    year = 2013\n",
      "    rankCol = True\n",
      "    cols = []\n",
      "    for i,c in enumerate(df.columns):\n",
      "        if (rankCol):\n",
      "            cols.append(\"%dRank\" % year)\n",
      "        else:\n",
      "            cols.append(\"%dCount\" % year)\n",
      "            year-=1\n",
      "        rankCol = not rankCol\n",
      "    df.columns = cols\n",
      "\n",
      "#3. Combine all this and put into a datastructure\n",
      "# we assume that the proportion of names at each rank are the same for all years prior to 1996\n",
      "top = {}\n",
      "q = {}\n",
      "for sid in sheet:\n",
      "    s = sheet[sid]\n",
      "    q[sid]=s.sort('1996Rank')\n",
      "    top[sid] = q[sid]['1996Count'][0:100]\n",
      "\n",
      "#get list of all names\n",
      "allnames = {}\n",
      "for gender in ranks:\n",
      "    allnames[gender] = []\n",
      "    for year in ranks[gender]:\n",
      "        r = ranks[gender][year]\n",
      "        allnames[gender].extend(r.values)\n",
      "\n",
      "#function to remove duplicates in a list\n",
      "def uniq(seq, idfun=None): \n",
      "   # order preserving\n",
      "   if idfun is None:\n",
      "       def idfun(x): return x\n",
      "   seen = {}\n",
      "   result = []\n",
      "   for item in seq:\n",
      "       marker = idfun(item)\n",
      "       if marker in seen: continue\n",
      "       seen[marker] = 1\n",
      "       result.append(item)\n",
      "   return result\n",
      "\n",
      "#4. get a list of all names, without duplicates\n",
      "allnames['boys'] = uniq(allnames['boys'])\n",
      "allnames['girls'] = uniq(allnames['girls'])\n",
      "\n",
      "#5. add results to 'results' structure\n",
      "results = {}\n",
      "for gender in ['boys','girls']:\n",
      "    results[gender] = {}\n",
      "    for name in allnames[gender]:\n",
      "        years,ps = getAgeDist(name,gender)\n",
      "        results[gender][name] = ps\n",
      "\n",
      "#6. save results in names.p\n",
      "import pickle\n",
      "results['years'] = years\n",
      "pickle.dump( results, open( pathToData+\"names.p\", \"wb\" ) )\n",
      "\n",
      "#7. We also need to know how people shorten their names\n",
      "#Download and scrape the wikipedia page of people's shortened names\n",
      "import urllib2\n",
      "import re\n",
      "response = urllib2.urlopen('http://en.wiktionary.org/wiki/Appendix:English_given_names')\n",
      "html = response.read()\n",
      "\n",
      "p = re.compile('<li><a.*title.*>([A-Za-z]*)</a>[ -]*(([A-Za-z]+, )+)([A-Za-z]+)</li>')\n",
      "ms = p.findall(html)\n",
      "\n",
      "contractions = {}\n",
      "for m in ms:\n",
      "    for name in m[1:]:\n",
      "        for ns in name.split(','):\n",
      "            if len(ns)<2:\n",
      "                continue\n",
      "            if ns in contractions:\n",
      "                contractions[ns.upper()].append(m[0].upper())\n",
      "            else:\n",
      "                contractions[ns.upper()]=[m[0].upper()]\n",
      "        \n",
      "#8. Save in contractions.p\n",
      "pickle.dump( contractions, open( pathToData+\"contractions.p\", \"wb\" ) )"
     ],
     "language": "python",
     "metadata": {},
     "outputs": [],
     "prompt_number": 52
    },
    {
     "cell_type": "markdown",
     "metadata": {},
     "source": [
      "#Testing"
     ]
    },
    {
     "cell_type": "code",
     "collapsed": false,
     "input": [
      "def getAgeDist(name,gender):\n",
      "    temp = [0]\n",
      "    #TODO: Painfully complicated way to get total population\n",
      "    CensusAnswer.getAgeDist('K04000001',temp) #alive today at each age\n",
      "    years = range(2011,2011-len(temp[0])+1,-1) #!CENSUS WAS IN 2011\n",
      "    alive = {}\n",
      "    for y,al in zip(years,temp[0]):\n",
      "        alive[y] = al\n",
      "    \n",
      "    totpop = sum([alive[y] for y in alive]) #total population of England+Wales\n",
      "    years = range(1914,2004,10)\n",
      "    ps = np.zeros(len(years))\n",
      "    for yeari,year in enumerate(years):\n",
      "        r = ranks[gender]\n",
      "        idxes = r[r[year]==name]\n",
      "        p = 0\n",
      "        if not idxes.empty:\n",
      "            rk = r[r[year]==name].index[0]\n",
      "            p = 1.*top[gender][rk-1]/(totpop/2) #roughly half of the same gender\n",
      "        ps[yeari] = p+0.000000001\n",
      " #   ps = ps / sum(ps)\n",
      "    return years,ps"
     ],
     "language": "python",
     "metadata": {},
     "outputs": [],
     "prompt_number": 39
    },
    {
     "cell_type": "code",
     "collapsed": false,
     "input": [
      "getAgeDist('JOHN','boys') #p(Name=John|gender=male, year=X)"
     ],
     "language": "python",
     "metadata": {},
     "outputs": [
      {
       "metadata": {},
       "output_type": "pyout",
       "prompt_number": 40,
       "text": [
        "([1914, 1924, 1934, 1944, 1954, 1964, 1974, 1984, 1994],\n",
        " array([  3.84520849e-04,   3.84520849e-04,   3.84520849e-04,\n",
        "         3.84520849e-04,   3.68789033e-04,   2.81354377e-04,\n",
        "         1.78687328e-04,   1.72658582e-04,   6.71020146e-05]))"
       ]
      }
     ],
     "prompt_number": 40
    },
    {
     "cell_type": "code",
     "collapsed": false,
     "input": [
      "plt.bar(years,results['girls']['EMMA'],width=10)"
     ],
     "language": "python",
     "metadata": {},
     "outputs": [
      {
       "metadata": {},
       "output_type": "pyout",
       "prompt_number": 41,
       "text": [
        "<Container object of 9 artists>"
       ]
      },
      {
       "metadata": {},
       "output_type": "display_data",
       "png": "[encoded data removed]",
       "text": [
        "<matplotlib.figure.Figure at 0x7fc3b114f190>"
       ]
      }
     ],
     "prompt_number": 41
    },
    {
     "cell_type": "markdown",
     "metadata": {},
     "source": [
      "The code above goes the wrong way: I just need p(name|age)!\n",
      "\n",
      "Testing if we can load the data from the pickle"
     ]
    },
    {
     "cell_type": "code",
     "collapsed": false,
     "input": [
      "nameps = pickle.load( open( \"names.p\", \"rb\" ) )"
     ],
     "language": "python",
     "metadata": {},
     "outputs": [],
     "prompt_number": 42
    },
    {
     "cell_type": "code",
     "collapsed": false,
     "input": [
      "nameps['boys']['JOHN']"
     ],
     "language": "python",
     "metadata": {},
     "outputs": [
      {
       "metadata": {},
       "output_type": "pyout",
       "prompt_number": 43,
       "text": [
        "array([  3.84520849e-04,   3.84520849e-04,   3.84520849e-04,\n",
        "         3.84520849e-04,   3.68789033e-04,   2.81354377e-04,\n",
        "         1.78687328e-04,   1.72658582e-04,   6.71020146e-05])"
       ]
      }
     ],
     "prompt_number": 43
    },
    {
     "cell_type": "code",
     "collapsed": false,
     "input": [
      "\n",
      "def distribute_probs(p,j,spread=False):\n",
      "    \"\"\"Distributes age probabilities.\n",
      "    \n",
      "    Distributes discrete age probabilities over the \"more\" continuous\n",
      "    range from 0 to 100.\n",
      "    \n",
      "    Args:\n",
      "        p - numpy array of probabilities (doesn't need to be normalised)\n",
      "        j - numpy array of where the boundaries are. It is assumed the first value is from 0\n",
      "            for example j=np.array([16,25,50]) will have four probabilities associated:\n",
      "            between 0-15, 16-24, 25-49, 50+\n",
      "\tspread - default False. In the case where you're spreading the values over\n",
      "\t    p(r|0<a<10) where a is the parameter, into, e.g. p(r=4|a) we can say that\n",
      "\t    p(r|a=4) = p(r|0<a<10), unless we know something else.\n",
      "          however...\n",
      "\t    if we're spreading p(0<a<10|r), then the probabilities will be divided\n",
      "\t    (assuming a uniform distribution) equally over the values of a in the range.\n",
      "\t    so p(a=4|r) = p(0<a<10|r)/10\n",
      "        \n",
      "    Returns:\n",
      "        A numpy array of probabilities from 0 to 100.\n",
      "        \n",
      "    Example:\n",
      "        distribute_probs(p,np.array([18,25,35,45,50,56]))\n",
      "    \"\"\"    \n",
      "    res = np.zeros(101)  \n",
      "    jend = np.append(j,101)\n",
      "    j = np.insert(j,0,0)\n",
      "    for start,end,v in zip(j,jend,p):\n",
      "        if (spread):\n",
      "            res[start:end] = 1.0*v/(end-start)\n",
      "        else:\n",
      "            res[start:end] = 1.0*v\n",
      "    return res\n",
      "\n",
      "#distribute_probs([0.2,0.3,0.4,.5,.6],[20,40,60])\n",
      "\n",
      "contractions = pickle.load( open( \"contractions.p\", \"rb\" ) )\n",
      "\n",
      "name = 'JOHN'\n",
      "if (name in nameps['boys']):\n",
      "    p_male = nameps['boys'][name]\n",
      "else:\n",
      "    p_male = np.zeros(len(years))\n",
      "if (name in nameps['girls']):\n",
      "    p_female = nameps['girls'][name]\n",
      "else:\n",
      "    p_female = np.zeros(len(years))\n",
      "ages = [2015-y for y in years]\n",
      "\n",
      "p_male = p_male[-1:0:-1]\n",
      "p_female = p_female[-1:0:-1]\n",
      "ages = ages[-1:0:-1]\n",
      "p_male = np.hstack([p_male,p_male[-1]])\n",
      "p_female = np.hstack([p_female,p_female[-1]])\n",
      "ages.append(101) #add last boundary\n",
      "print ages\n",
      "p_male = distribute_probs(p_male,ages)\n",
      "p_female = distribute_probs(p_female,ages)\n",
      "#np.vstack([p_male,p_female])\n",
      "probs = np.zeros([101,2,2])\n",
      "probs[:,0,0] = p_male\n",
      "probs[:,0,1] = 1-p_male\n",
      "probs[:,1,0] = p_female\n",
      "probs[:,1,1] = 1-p_female\n",
      "\n",
      "plt.plot(range(101),probs[:,0,0])"
     ],
     "language": "python",
     "metadata": {},
     "outputs": [
      {
       "output_type": "stream",
       "stream": "stdout",
       "text": [
        "[21, 31, 41, 51, 61, 71, 81, 91, 101]\n"
       ]
      },
      {
       "metadata": {},
       "output_type": "pyout",
       "prompt_number": 49,
       "text": [
        "[<matplotlib.lines.Line2D at 0x7fc3b0cf2810>]"
       ]
      },
      {
       "metadata": {},
       "output_type": "display_data",
       "png": "[encoded data removed]",
       "text": [
        "<matplotlib.figure.Figure at 0x7fc3b0ecf810>"
       ]
      }
     ],
     "prompt_number": 49
    },
    {
     "cell_type": "code",
     "collapsed": false,
     "input": [],
     "language": "python",
     "metadata": {},
     "outputs": [
      {
       "metadata": {},
       "output_type": "pyout",
       "prompt_number": 171,
       "text": [
        "array([ 0.2,  0.2,  0.2,  0.2,  0.2,  0.2,  0.2,  0.2,  0.2,  0.2,  0.2,\n",
        "        0.2,  0.2,  0.2,  0.2,  0.2,  0.2,  0.2,  0.2,  0.2,  0.3,  0.3,\n",
        "        0.3,  0.3,  0.3,  0.3,  0.3,  0.3,  0.3,  0.3,  0.3,  0.3,  0.3,\n",
        "        0.3,  0.3,  0.3,  0.3,  0.3,  0.3,  0.3,  0.4,  0.4,  0.4,  0.4,\n",
        "        0.4,  0.4,  0.4,  0.4,  0.4,  0.4,  0.4,  0.4,  0.4,  0.4,  0.4,\n",
        "        0.4,  0.4,  0.4,  0.4,  0.4,  0.5,  0.5,  0.5,  0.5,  0.5,  0.5,\n",
        "        0.5,  0.5,  0.5,  0.5,  0.5,  0.5,  0.5,  0.5,  0.5,  0.5,  0.5,\n",
        "        0.5,  0.5,  0.5,  0.5,  0.5,  0.5,  0.5,  0.5,  0.5,  0.5,  0.5,\n",
        "        0.5,  0.5,  0.5,  0.5,  0.5,  0.5,  0.5,  0.5,  0.5,  0.5,  0.5,\n",
        "        0.5,  0.5])"
       ]
      }
     ],
     "prompt_number": 171
    },
    {
     "cell_type": "code",
     "collapsed": false,
     "input": [
      "p = distribute_probs(nameps['JOHN'],ages)"
     ],
     "language": "python",
     "metadata": {},
     "outputs": [],
     "prompt_number": 87
    },
    {
     "cell_type": "code",
     "collapsed": false,
     "input": [
      "nameps['EMMA']"
     ],
     "language": "python",
     "metadata": {},
     "outputs": [
      {
       "metadata": {},
       "output_type": "pyout",
       "prompt_number": 89,
       "text": [
        "array([  3.73118123e-02,   3.03585824e-06,   3.03585824e-06,\n",
        "         3.03585824e-06,   3.03585824e-06,   3.03585824e-06,\n",
        "         3.47369946e-01,   3.47369946e-01,   2.67933117e-01])"
       ]
      }
     ],
     "prompt_number": 89
    },
    {
     "cell_type": "code",
     "collapsed": false,
     "input": [
      "import urllib2\n",
      "import re\n",
      "response = urllib2.urlopen('http://en.wiktionary.org/wiki/Appendix:English_given_names')\n",
      "html = response.read()\n",
      "\n",
      "#m = re.match(\"<li><a.*title.*>([A-Za-z]*)</a>\",html)\n",
      "#print html\n",
      "p = re.compile('<li><a.*title.*>([A-Za-z]*)</a>[ -]*(([A-Za-z]+, )+)([A-Za-z]+)</li>')\n",
      "ms = p.findall(html)\n",
      "\n",
      "contractions = {}\n",
      "for m in ms:\n",
      "   # print m[0],\":\",\n",
      "    for name in m[1:]:\n",
      "      #  name = re.sub(', ','',name)\n",
      "        for ns in name.split(','):\n",
      "            if len(ns)<2:\n",
      "                continue\n",
      "         #   print \"!\",ns,\"!\",\n",
      "            if ns in contractions:\n",
      "                contractions[ns.upper()].append(m[0].upper())\n",
      "            else:\n",
      "                contractions[ns.upper()]=[m[0].upper()]\n",
      "        \n",
      "import pickle\n",
      "pickle.dump( contractions, open( \"contractions.p\", \"wb\" ) )\n"
     ],
     "language": "python",
     "metadata": {},
     "outputs": [],
     "prompt_number": 336
    },
    {
     "cell_type": "code",
     "collapsed": false,
     "input": [],
     "language": "python",
     "metadata": {},
     "outputs": [],
     "prompt_number": 330
    },
    {
     "cell_type": "code",
     "collapsed": false,
     "input": [
      "contractions = pickle.load( open( \"contractions.p\", \"rb\" ) )"
     ],
     "language": "python",
     "metadata": {},
     "outputs": [],
     "prompt_number": 337
    },
    {
     "cell_type": "code",
     "collapsed": false,
     "input": [],
     "language": "python",
     "metadata": {},
     "outputs": [
      {
       "metadata": {},
       "output_type": "pyout",
       "prompt_number": 338,
       "text": [
        "['MICHAEL']"
       ]
      }
     ],
     "prompt_number": 338
    }
   ],
   "metadata": {}
  }
 ]
}