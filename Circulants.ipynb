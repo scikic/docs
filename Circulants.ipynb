{
 "cells": [
  {
   "cell_type": "markdown",
   "metadata": {},
   "source": [
    "#Circulants"
   ]
  },
  {
   "cell_type": "code",
   "execution_count": 2,
   "metadata": {
    "collapsed": false
   },
   "outputs": [
    {
     "name": "stdout",
     "output_type": "stream",
     "text": [
      "Determinants\n",
      "Actual 4.00\n",
      "Guess  4.00\n",
      "Our original W matrix (this is what you need to make your program work)\n",
      "[[ 1.  1.  0.  0.  0.  0.  0.]\n",
      " [ 0.  1.  1.  0.  0.  0.  0.]\n",
      " [ 0.  0.  1.  1.  0.  0.  0.]\n",
      " [ 0.  0.  0.  1.  1.  0.  0.]\n",
      " [ 0.  0.  0.  0.  1.  1.  0.]\n",
      " [ 0.  0.  0.  0.  0.  1.  1.]\n",
      " [ 1.  0.  0.  0.  0.  0.  1.]]\n",
      "Times its transpose\n",
      "[[ 2.  1.  0.  0.  0.  0.  1.]\n",
      " [ 1.  2.  1.  0.  0.  0.  0.]\n",
      " [ 0.  1.  2.  1.  0.  0.  0.]\n",
      " [ 0.  0.  1.  2.  1.  0.  0.]\n",
      " [ 0.  0.  0.  1.  2.  1.  0.]\n",
      " [ 0.  0.  0.  0.  1.  2.  1.]\n",
      " [ 1.  0.  0.  0.  0.  1.  2.]]\n"
     ]
    }
   ],
   "source": [
    "import numpy as np\n",
    "\n",
    "#Function to generate our 'w' (stupidly called A here!). It has n columns\n",
    "#and r 1s in each row. Each query has l new paramters (dropping l old ones)\n",
    "#so in effect the 1s are shifted by l each time.\n",
    "#for example n=6, r=2, l=2 gives:\n",
    "#      [[ 1.,  1.,  0.,  0.,  0.,  0.],\n",
    "#       [ 0.,  0.,  1.,  1.,  0.,  0.],\n",
    "#       [ 0.,  0.,  0.,  0.,  1.,  1.]]\n",
    "#the function returns A, and the AA^T\n",
    "#maybe it should be worrying about A^T A but for l=1 these are equal...?\n",
    "#It also returns the determinant of this.\n",
    "def calc_circulant(n,r,l):\n",
    "    #n = matrix size\n",
    "    #r = row width\n",
    "    #l = overlap step (how many items don't overlap)\n",
    "    if (n % l)!=0:\n",
    "        raise ValueError('The length of the overlap step (%d) is not a factor of the matrix width (%d).' % (l,n))\n",
    "    nrows = n/l\n",
    "    a = np.zeros(n)\n",
    "    a[0:r] = 1\n",
    "    A = np.zeros((nrows,n))\n",
    "    for i in range(nrows):\n",
    "        A[i,:] = a\n",
    "        a = np.roll(a,l)\n",
    "    AAt = np.dot(A,A.transpose())\n",
    "    det = np.linalg.det(AAt)\n",
    "    return A, AAt, det\n",
    "\n",
    "#For l=1, this uses the \\prod_j^(n-1) r+ \\sum_k=1^(r-1) 2k cos (2\\pi k j / n) fn to find the determinant\n",
    "def calc_quick(n,r,l):\n",
    "    if l!=1:\n",
    "        raise ValueError('This algorithm only works for l=1')\n",
    "    T = 1\n",
    "    for j in range(n):\n",
    "        S = 0\n",
    "        for k in range(1,r):\n",
    "            temp = 2*(r-k)*np.cos(2*np.pi*j*k/n)\n",
    "            S+=temp\n",
    "        S = S + r\n",
    "        T *= S\n",
    "    return T\n",
    "\n",
    "#finds the greatest common denominator\n",
    "def gcd(a, b):\n",
    "    return a if b == 0 else gcd(b, a % b)\n",
    "\n",
    "#for l=1 (I've not investigated l>1), uses the observations about n and r and the determinant.\n",
    "#(Is there a quick way of saying if the gca=1 without having to run the algorithm?\n",
    "def calc_super_quick(n,r,l):\n",
    "    if l!=1:\n",
    "        raise ValueError('This algorithm only works for l=1')    \n",
    "    if gcd(n,r)!=1:\n",
    "        return 0\n",
    "    else:\n",
    "        return r**2\n",
    "#I wonder if this gives us an alternative way to find the GCD of a pair of numbers????\n",
    "\n",
    "#A failed attempt to use a trig id to remove the summation from the earlier equation. Ignore.\n",
    "def calc_very_quick(n,r,l):\n",
    "    if l!=1:\n",
    "        raise ValueError('This algorithm only works for l=1')\n",
    "    T = 1\n",
    "    #for j = 0\n",
    "    T = r + 2*((r-1)**2/2) + (r-1)/2\n",
    "    for j in range(1,n):\n",
    "        S = r - np.sin(2*np.pi*r*j/n) * np.cos((r-1)*np.pi*j/n) / np.sin(np.pi*j/n)\n",
    "        T *= S\n",
    "    return T\n",
    "\n",
    "l = 1\n",
    "n = 7\n",
    "r = 2\n",
    "guess = calc_super_quick(n,r,l) #only works if l=1\n",
    "A, AAt, det = calc_circulant(n,r,l)\n",
    "print \"Determinants\"\n",
    "print \"Actual %0.2f\" % det\n",
    "print \"Guess  %0.2f\" % guess\n",
    "print \"Our original W matrix (this is what you need to make your program work)\"\n",
    "print A\n",
    "print \"Times its transpose\"\n",
    "print AAt"
   ]
  },
  {
   "cell_type": "code",
   "execution_count": null,
   "metadata": {
    "collapsed": true
   },
   "outputs": [],
   "source": []
  }
 ],
 "metadata": {
  "kernelspec": {
   "display_name": "Python 2",
   "language": "python",
   "name": "python2"
  },
  "language_info": {
   "codemirror_mode": {
    "name": "ipython",
    "version": 2
   },
   "file_extension": ".py",
   "mimetype": "text/x-python",
   "name": "python",
   "nbconvert_exporter": "python",
   "pygments_lexer": "ipython2",
   "version": "2.7.10"
  }
 },
 "nbformat": 4,
 "nbformat_minor": 0
}
