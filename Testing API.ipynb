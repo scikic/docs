{
 "cells": [
  {
   "cell_type": "code",
   "execution_count": null,
   "metadata": {
    "collapsed": true
   },
   "outputs": [],
   "source": [
    "apiurl = 'http://dev.scikic.org' #development api"
   ]
  },
  {
   "cell_type": "code",
   "execution_count": 43,
   "metadata": {
    "collapsed": false
   },
   "outputs": [
    {
     "name": "stdout",
     "output_type": "stream",
     "text": [
      "{\"facts\": {\"guess_loc\": {}, \"where\": {}, \"where_history\": {\"error\": \"no_fb_likes\"}}, \"features\": {\"factor_gender\": {\"distribution\": [0.33111111111111113, 0.6688888888888889], \"quartiles\": {\"upper\": 1, \"lower\": 0, \"mean\": 0.6688888888888889}}, \"factor_age\": {\"distribution\": [0.0017777777777777779, 0.014666666666666666, 0.025777777777777778, 0.02311111111111111, 0.010666666666666666, 0.008, 0.013777777777777778, 0.014666666666666666, 0.009333333333333334, 0.010222222222222223, 0.012, 0.008, 0.008444444444444444, 0.008888888888888889, 0.012444444444444444, 0.011111111111111112, 0.013333333333333334, 0.0071111111111111115, 0.006666666666666667, 0.009777777777777778, 0.010666666666666666, 0.013333333333333334, 0.008888888888888889, 0.006666666666666667, 0.008444444444444444, 0.009333333333333334, 0.008444444444444444, 0.012444444444444444, 0.007555555555555556, 0.009777777777777778, 0.010222222222222223, 0.009333333333333334, 0.008888888888888889, 0.009333333333333334, 0.008, 0.009333333333333334, 0.010666666666666666, 0.005333333333333333, 0.005333333333333333, 0.008, 0.012444444444444444, 0.008, 0.009333333333333334, 0.008, 0.012, 0.012444444444444444, 0.009333333333333334, 0.008, 0.008888888888888889, 0.009333333333333334, 0.010666666666666666, 0.009777777777777778, 0.0057777777777777775, 0.0071111111111111115, 0.008444444444444444, 0.013333333333333334, 0.0071111111111111115, 0.012888888888888889, 0.008444444444444444, 0.0071111111111111115, 0.008, 0.013333333333333334, 0.0057777777777777775, 0.0071111111111111115, 0.015111111111111112, 0.011555555555555555, 0.008, 0.0057777777777777775, 0.007555555555555556, 0.010222222222222223, 0.013333333333333334, 0.009333333333333334, 0.0057777777777777775, 0.010666666666666666, 0.011555555555555555, 0.008, 0.009333333333333334, 0.012444444444444444, 0.0071111111111111115, 0.008888888888888889, 0.009777777777777778, 0.009333333333333334, 0.008888888888888889, 0.013777777777777778, 0.010222222222222223, 0.009777777777777778, 0.008444444444444444, 0.011111111111111112, 0.012, 0.008888888888888889, 0.008444444444444444, 0.009777777777777778, 0.008444444444444444, 0.010222222222222223, 0.010222222222222223, 0.006222222222222222, 0.009777777777777778, 0.013333333333333334, 0.011111111111111112, 0.012888888888888889, 0.010222222222222223], \"quartiles\": {\"upper\": 76, \"lower\": 21, \"mean\": 48.77911111111113}}}, \"insights\": [\"Note: I can't see your facebook likes.\", \"OSM Answer system online\"]}\n",
      "==Facts==\n",
      "{u'guess_loc': {}, u'where': {}, u'where_history': {u'error': u'no_fb_likes'}}\n",
      "\n",
      "==Features==\n",
      "factor_gender\n",
      "{u'distribution': [0.33111111111111113, 0.6688888888888889], u'quartiles': {u'upper': 1, u'lower': 0, u'mean': 0.6688888888888889}}\n",
      "factor_age\n",
      "{u'distribution': [0.0017777777777777779, 0.014666666666666666, 0.025777777777777778, 0.02311111111111111, 0.010666666666666666, 0.008, 0.013777777777777778, 0.014666666666666666, 0.009333333333333334, 0.010222222222222223, 0.012, 0.008, 0.008444444444444444, 0.008888888888888889, 0.012444444444444444, 0.011111111111111112, 0.013333333333333334, 0.0071111111111111115, 0.006666666666666667, 0.009777777777777778, 0.010666666666666666, 0.013333333333333334, 0.008888888888888889, 0.006666666666666667, 0.008444444444444444, 0.009333333333333334, 0.008444444444444444, 0.012444444444444444, 0.007555555555555556, 0.009777777777777778, 0.010222222222222223, 0.009333333333333334, 0.008888888888888889, 0.009333333333333334, 0.008, 0.009333333333333334, 0.010666666666666666, 0.005333333333333333, 0.005333333333333333, 0.008, 0.012444444444444444, 0.008, 0.009333333333333334, 0.008, 0.012, 0.012444444444444444, 0.009333333333333334, 0.008, 0.008888888888888889, 0.009333333333333334, 0.010666666666666666, 0.009777777777777778, 0.0057777777777777775, 0.0071111111111111115, 0.008444444444444444, 0.013333333333333334, 0.0071111111111111115, 0.012888888888888889, 0.008444444444444444, 0.0071111111111111115, 0.008, 0.013333333333333334, 0.0057777777777777775, 0.0071111111111111115, 0.015111111111111112, 0.011555555555555555, 0.008, 0.0057777777777777775, 0.007555555555555556, 0.010222222222222223, 0.013333333333333334, 0.009333333333333334, 0.0057777777777777775, 0.010666666666666666, 0.011555555555555555, 0.008, 0.009333333333333334, 0.012444444444444444, 0.0071111111111111115, 0.008888888888888889, 0.009777777777777778, 0.009333333333333334, 0.008888888888888889, 0.013777777777777778, 0.010222222222222223, 0.009777777777777778, 0.008444444444444444, 0.011111111111111112, 0.012, 0.008888888888888889, 0.008444444444444444, 0.009777777777777778, 0.008444444444444444, 0.010222222222222223, 0.010222222222222223, 0.006222222222222222, 0.009777777777777778, 0.013333333333333334, 0.011111111111111112, 0.012888888888888889, 0.010222222222222223], u'quartiles': {u'upper': 76, u'lower': 21, u'mean': 48.77911111111113}}\n",
      "\n",
      "==Text insights==\n",
      "[u\"Note: I can't see your facebook likes.\", u'OSM Answer system online']\n"
     ]
    }
   ],
   "source": [
    "import requests\n",
    "import json\n",
    "postcode = 'gl69en'\n",
    "questions_asked = []\n",
    "questions_asked.append({'dataset':'postal','dataitem':'postcode','detail':'','answer':postcode})\n",
    "questions_asked.append({'dataset':'lifestyle','dataitem':'workplace','detail':'','answer':postcode})\n",
    "\n",
    "unprocessed_questions = questions_asked[:] \n",
    "facts = {}\n",
    "\n",
    "#Additional info from facebook\n",
    "fb_data = json.dumps({'reply':json.dumps({'first_name':'Alan'})})\n",
    "questions_asked.append({'dataset':'facebook','dataitem':'','detail':'','answer':fb_data})\n",
    "unprocessed_questions.append({'dataset':'facebook','dataitem':'','detail':'','answer':fb_data})\n",
    "\n",
    "data = {'questions_asked':questions_asked,'unprocessed_questions':unprocessed_questions,'facts':facts}\n",
    "payload = {\"version\":1, 'data': data, 'apikey': 'YOUR_API_KEY_HERE', 'action':'inference'}\n",
    "r = requests.post(apiurl+'/inference',json=payload)\n",
    "print r.content\n",
    "result = json.loads(r.content)\n",
    "print \"==Facts==\"\n",
    "print result['facts']\n",
    "print \"\"\n",
    "print \"==Features==\"\n",
    "for feat in result['features']:\n",
    "    print feat\n",
    "    print result['features'][feat]\n",
    "print \"\"\n",
    "print \"==Text insights==\"\n",
    "print result['insights']"
   ]
  },
  {
   "cell_type": "code",
   "execution_count": 54,
   "metadata": {
    "collapsed": false
   },
   "outputs": [
    {
     "data": {
      "text/plain": [
       "'{\"facts\": {}, \"question_string\": {\"type\": \"text\", \"question\": \"What\\'s your favourite band or artist? (be honest!)\"}, \"question\": {\"detail\": \"\", \"dataitem\": \"favourite_artist\", \"dataset\": \"music\"}}'"
      ]
     },
     "execution_count": 54,
     "metadata": {},
     "output_type": "execute_result"
    }
   ],
   "source": [
    "import requests\n",
    "#We provide data about previous questions etc:\n",
    "#data consists of a dictionary of (all of these are optional):\n",
    "\n",
    "#'questions_asked': An array of previous questions and answers we've asked, consists of a list of dictionaries.\n",
    "questions_asked = [{'dataset':'postal','dataitem':'postcode','detail':''},{\"detail\": \"\", \"dataitem\": \"favourite_artist\", \"dataset\": \"music\"}]\n",
    "\n",
    "#none of the questions that have been asked before have been processed.\n",
    "unprocessed_questions = questions_asked\n",
    "\n",
    "#'facts': If you've run the inference query and stored a copy of the facts dictionary you can pass it back.\n",
    "#this makes it quicker. In this case we've not yet had any questions processed.\n",
    "facts = {}\n",
    "\n",
    "#'target': What feature we want to know more about (example: 'age', 'gender', 'location') NOT YET IMPLEMENTED\n",
    "#not used. All these items are optional, so we just don't include it.\n",
    "\n",
    "#Build the dictionary:\n",
    "data = {'unprocessed_questions':unprocessed_questions,'questions_asked':questions_asked,'facts':facts}\n",
    "\n",
    "#put it into the payload of the request. This also includes the version, the api key we're using and the action we want (in this case generate a question)\n",
    "payload = {\"version\":1, 'data': data, 'apikey': 'YOUR_API_KEY_HERE'}\n",
    "r = requests.post(apiurl+'/question',json=payload)\n",
    "r.content"
   ]
  },
  {
   "cell_type": "code",
   "execution_count": 53,
   "metadata": {
    "collapsed": false
   },
   "outputs": [
    {
     "name": "stdout",
     "output_type": "stream",
     "text": [
      "The <a href=\"facebook.com\">facebook</a> graph API\n",
      "The <a href=\"http://www.census.gov/developers/\">US census bureau</a>. In particular the American Community Survey <a href=\"http://www.census.gov/data/developers/data-sets/acs-survey-5-year-data.html\">5 year data</a>.\n",
      "The <a href=\"http://files.grouplens.org/datasets/movielens\">movielens</a> database\n",
      "The ONS provide statistics on the distribution of the names of baby's in the UK: <a href=\"http://www.ons.gov.uk/ons/about-ons/business-transparency/freedom-of-information/what-can-i-request/published-ad-hoc-data/pop/august-2014/baby-names-1996-2013.xls\">1996-2013</a> and <a href=\"http://www.ons.gov.uk/ons/rel/vsob1/baby-names--england-and-wales/1904-1994/top-100-baby-names-historical-data.xls\">1904-1994</a>.\n",
      "The <a href=\"https://geoportal.statistics.gov.uk\">UK office of national statistics</a> (see <a href=\"http://www.ons.gov.uk/ons/guide-method/geography/products/census/lookup/other/index.html\">details</a> and <a href=\"https://geoportal.statistics.gov.uk/geoportal/catalog/search/resource/details.page?uuid={A33B0569-97E2-4F44-836C-B656A6D082B6} \">information</a>) and the US zipcode data was from <a href=\"http://mcdc.missouri.edu\">Missouri's Census Data Center.\n",
      "The <a href=\"bandsintown.com\">bandsintown.com</a> API\n",
      "The <a href=\"http://www.ons.gov.uk/ons/guide-method/census/2011/census-data/ons-data-explorer--beta-/index.html\">UK office of national statistics</a>\n",
      "The <a href=\"freegeoip.net\">freegeoip.net</a> API\n"
     ]
    }
   ],
   "source": [
    "import requests\n",
    "import json\n",
    "data = {'dataset':'babynames'}\n",
    "payload = {\"version\":1, 'data': data, 'apikey': 'YOUR_API_KEY_HERE'}\n",
    "r = requests.post(apiurl+'/metadata',json=payload)\n",
    "for item in json.loads(r.content):\n",
    "    if 'citation' in item:\n",
    "        print(item['citation'])"
   ]
  },
  {
   "cell_type": "code",
   "execution_count": null,
   "metadata": {
    "collapsed": true
   },
   "outputs": [],
   "source": []
  }
 ],
 "metadata": {
  "kernelspec": {
   "display_name": "Python 2",
   "language": "python",
   "name": "python2"
  },
  "language_info": {
   "codemirror_mode": {
    "name": "ipython",
    "version": 2
   },
   "file_extension": ".py",
   "mimetype": "text/x-python",
   "name": "python",
   "nbconvert_exporter": "python",
   "pygments_lexer": "ipython2",
   "version": "2.7.11"
  }
 },
 "nbformat": 4,
 "nbformat_minor": 0
}
